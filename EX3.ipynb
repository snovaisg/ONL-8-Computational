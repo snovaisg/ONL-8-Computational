{
 "cells": [
  {
   "cell_type": "markdown",
   "metadata": {},
   "source": [
    "# Exercise 3\n",
    "\n",
    "## Function we want to minimize\n",
    "\n",
    "$f(x) = x + y$ \n",
    "\n",
    "## subject to the constraint\n",
    "\n",
    "$h1(x) = x + y + z - 1$\n",
    "\n",
    "$ and $\n",
    "\n",
    "$h2(x) = x^{2} + 2y^{2} + z^{2} - 1 $\n",
    "\n",
    "# Let's define the merit function\n",
    "\n",
    "## pure\n",
    "- $p(x) = \\frac{1}{2}h_{1}(x)^Th_{1}(x) + \\frac{1}{2}h_{2}(x)^Th_{2}(x) = ||h(x)||_2^2 = \\frac{1}{2}(x + y + z - 1)^T (x + y + z - 1) + \\frac{1}{2}(x^{2} + 2y^{2} + z^{2} - 1)^T(x^{2} + 2y^{2} + z^{2} - 1)$\n",
    "\n",
    "$P(x,\\mu) = f(x) + \\mu p(x) = x + y + \\frac{\\mu}{2}[(x + y + z - 1)^T (x + y + z - 1) + (x^{2} + 2y^{2} + z^{2} - 1)^T(x^{2} + 2y^{2} + z^{2} - 1)]$\n",
    "\n",
    "## Augmented Lagrangian\n",
    "\n",
    "$\n",
    "\\begin{equation}\n",
    "\\begin{aligned}\n",
    "L(x,\\lambda,\\mu) &= f(x) + \\lambda^T_{1}h_{1}(x) + \\lambda^T_{2}h_{2}(x) + \\frac{\\mu}{2}(h_{1}(x)^Th_{1}(x) + h_{2}(x)^Th_{2}(x)) \\\\\n",
    "&= x + y + \\lambda_{1}^T(x + y + z - 1) + \\lambda_{2}^T(x^{2} + 2y^{2} + z^{2} - 1) + \\frac{\\mu}{2}[(x + y + z - 1)^T (x + y + z - 1) + (x^{2} + 2y^{2} + z^{2} - 1)^T(x^{2} + 2y^{2} + z^{2} - 1)]\n",
    "\\end{aligned}\n",
    "\\end{equation}\n",
    "$\n",
    "\n",
    "# Algorithms\n",
    "\n",
    "## pure\n",
    "\n",
    "1. For $k=0$ choose: $\\mu_0, x_0$\n",
    "2. $x_{k+1}$ = $argmin_x$ $P(x, \\mu_k)$\n",
    "3. Choose $\\mu_{k+1} > \\mu_k$, $k=k+1$, repeat step 2.\n",
    "\n",
    "## Augmented Lagrangian\n",
    "\n",
    "1. For $k=0$, choose: $\\lambda_0, x_0, \\mu_0$\n",
    "2. $x_{k+1}$ = $argmin_x$ $L(x,\\lambda_k, \\mu_k)$\n",
    "3. $\\lambda_k$\n",
    "\n",
    "\n",
    "# Roadmap\n",
    "\n",
    "- [x] Find optimization algorithm from scipy\n",
    "2. Create naive optimization loop for pure method (no visualizations, no keeping track of metrics) [ ]\n",
    "3. Once that is done, start recording certain metrics (nº iterations, $f(x_k)$, $P(x,\\mu)$, $\\mu$ ) [ ]\n",
    "4. Repeat 2,3 for Augmented Lagrangian [ ]\n",
    "\n"
   ]
  },
  {
   "cell_type": "code",
   "execution_count": 5,
   "metadata": {},
   "outputs": [],
   "source": [
    "# optimization algorithm to minimize unconstrained function\n",
    "from scipy.optimize import minimize\n",
    "import pandas as pd\n",
    "import numpy as np\n",
    "import matplotlib as plt"
   ]
  },
  {
   "cell_type": "code",
   "execution_count": 9,
   "metadata": {},
   "outputs": [
    {
     "data": {
      "text/plain": [
       "array([[5879872]])"
      ]
     },
     "execution_count": 9,
     "metadata": {},
     "output_type": "execute_result"
    }
   ],
   "source": [
    "# function to minimize\n",
    "f = lambda x: x[0] + x[1]\n",
    "# its gradient/jacobian\n",
    "JacF = lambda x: [1, 1]\n",
    "# norm of its gradient/jacobian\n",
    "normJacF = lambda x: np.linalg.norm(JacF(x))\n",
    "# constraint\n",
    "h1 = lambda x: x[0] + x[1] + x[2] - 1\n",
    "h2 = lambda x: x[0]**2 + 2*x[1]**2 + x[2]**2 - 1"
   ]
  },
  {
   "cell_type": "markdown",
   "metadata": {},
   "source": [
    "## Penalty Method"
   ]
  },
  {
   "cell_type": "code",
   "execution_count": 10,
   "metadata": {},
   "outputs": [],
   "source": [
    "# feasibility penalization function\n",
    "p = lambda x: 1/2 *( h1(x)**2 + h2(x)**2 )\n",
    "# Merit function\n",
    "P = lambda mu: lambda x: f(x) + mu*p(x)\n",
    "JacP = lambda mu: lambda x: np.array([1/2*mu *( 4*x[0]*(x[0]**2 + 2*x[1]**2 - 1) + 2*(x[0] + x[1] + x[2] - 1) ) + 1,\n",
    "                                     1/2*mu*(8*x[1]*(x[0]**2+2*x[1]**2-1) + 2*(x[0] + x[1] + x[2] - 1)) + 1,\n",
    "                                     mu*(x[0]+x[1]+x[2]-1)])"
   ]
  },
  {
   "cell_type": "code",
   "execution_count": 11,
   "metadata": {},
   "outputs": [],
   "source": [
    "from scipy.optimize import newton"
   ]
  },
  {
   "cell_type": "code",
   "execution_count": 36,
   "metadata": {},
   "outputs": [
    {
     "data": {
      "text/html": [
       "<div>\n",
       "<style scoped>\n",
       "    .dataframe tbody tr th:only-of-type {\n",
       "        vertical-align: middle;\n",
       "    }\n",
       "\n",
       "    .dataframe tbody tr th {\n",
       "        vertical-align: top;\n",
       "    }\n",
       "\n",
       "    .dataframe thead th {\n",
       "        text-align: right;\n",
       "    }\n",
       "</style>\n",
       "<table border=\"1\" class=\"dataframe\">\n",
       "  <thead>\n",
       "    <tr style=\"text-align: right;\">\n",
       "      <th></th>\n",
       "      <th>x</th>\n",
       "      <th>f(x)</th>\n",
       "      <th>||f'(x)||</th>\n",
       "      <th>P(x)</th>\n",
       "      <th>p(x)</th>\n",
       "      <th>h1(x)</th>\n",
       "      <th>h2(x)</th>\n",
       "      <th>mu</th>\n",
       "    </tr>\n",
       "    <tr>\n",
       "      <th>iteration</th>\n",
       "      <th></th>\n",
       "      <th></th>\n",
       "      <th></th>\n",
       "      <th></th>\n",
       "      <th></th>\n",
       "      <th></th>\n",
       "      <th></th>\n",
       "      <th></th>\n",
       "    </tr>\n",
       "  </thead>\n",
       "  <tbody>\n",
       "    <tr>\n",
       "      <th>0</th>\n",
       "      <td>[20, 30, 15]</td>\n",
       "      <td>50</td>\n",
       "      <td>1.414214</td>\n",
       "      <td>88198130.0</td>\n",
       "      <td>2939936.0</td>\n",
       "      <td>64</td>\n",
       "      <td>2424</td>\n",
       "      <td>30</td>\n",
       "    </tr>\n",
       "  </tbody>\n",
       "</table>\n",
       "</div>"
      ],
      "text/plain": [
       "                      x f(x)  ||f'(x)||        P(x)       p(x) h1(x) h2(x)  mu\n",
       "iteration                                                                     \n",
       "0          [20, 30, 15]   50   1.414214  88198130.0  2939936.0    64  2424  30"
      ]
     },
     "execution_count": 36,
     "metadata": {},
     "output_type": "execute_result"
    }
   ],
   "source": [
    "data = pd.DataFrame(columns=['iteration','x', 'f(x)',\"||f'(x)||\",'P(x)','p(x)','h1(x)','h2(x)','mu', 'mu*h1(x)', 'mu*h2(x)']).set_index('iteration')\n",
    "# initial condition\n",
    "i=0 # iteration\n",
    "x = [20,30,15]\n",
    "mu = 30\n",
    "data.loc[i] = [x,f(x),normJacF(x),P(mu)(x),p(x),h1(x), h2(x), mu, mu*h1(x), mu*h2(x)]\n",
    "data"
   ]
  },
  {
   "cell_type": "code",
   "execution_count": 40,
   "metadata": {},
   "outputs": [
    {
     "data": {
      "text/html": [
       "<div>\n",
       "<style scoped>\n",
       "    .dataframe tbody tr th:only-of-type {\n",
       "        vertical-align: middle;\n",
       "    }\n",
       "\n",
       "    .dataframe tbody tr th {\n",
       "        vertical-align: top;\n",
       "    }\n",
       "\n",
       "    .dataframe thead th {\n",
       "        text-align: right;\n",
       "    }\n",
       "</style>\n",
       "<table border=\"1\" class=\"dataframe\">\n",
       "  <thead>\n",
       "    <tr style=\"text-align: right;\">\n",
       "      <th></th>\n",
       "      <th>x</th>\n",
       "      <th>f(x)</th>\n",
       "      <th>||f'(x)||</th>\n",
       "      <th>P(x)</th>\n",
       "      <th>p(x)</th>\n",
       "      <th>h1(x)</th>\n",
       "      <th>h2(x)</th>\n",
       "      <th>mu</th>\n",
       "    </tr>\n",
       "    <tr>\n",
       "      <th>iteration</th>\n",
       "      <th></th>\n",
       "      <th></th>\n",
       "      <th></th>\n",
       "      <th></th>\n",
       "      <th></th>\n",
       "      <th></th>\n",
       "      <th></th>\n",
       "      <th></th>\n",
       "    </tr>\n",
       "  </thead>\n",
       "  <tbody>\n",
       "    <tr>\n",
       "      <th>0</th>\n",
       "      <td>[20, 30, 15]</td>\n",
       "      <td>50</td>\n",
       "      <td>1.414214</td>\n",
       "      <td>8.819813e+07</td>\n",
       "      <td>2.939936e+06</td>\n",
       "      <td>64</td>\n",
       "      <td>2424</td>\n",
       "      <td>30</td>\n",
       "    </tr>\n",
       "    <tr>\n",
       "      <th>1</th>\n",
       "      <td>[-0.8177814021960215, -0.41886455417881613, 2....</td>\n",
       "      <td>-1.23665</td>\n",
       "      <td>1.414214</td>\n",
       "      <td>3.768396e+02</td>\n",
       "      <td>1.260254e+01</td>\n",
       "      <td>-0.000397989</td>\n",
       "      <td>5.02047</td>\n",
       "      <td>30</td>\n",
       "    </tr>\n",
       "    <tr>\n",
       "      <th>2</th>\n",
       "      <td>[-0.8197161026753894, -0.4112158922212423, 2.2...</td>\n",
       "      <td>-1.23093</td>\n",
       "      <td>1.414214</td>\n",
       "      <td>7.448550e+02</td>\n",
       "      <td>1.243477e+01</td>\n",
       "      <td>-5.67167e-05</td>\n",
       "      <td>4.98694</td>\n",
       "      <td>60</td>\n",
       "    </tr>\n",
       "    <tr>\n",
       "      <th>3</th>\n",
       "      <td>[-0.8184254617017457, -0.409430908444137, 2.22...</td>\n",
       "      <td>-1.22786</td>\n",
       "      <td>1.414214</td>\n",
       "      <td>1.479886e+03</td>\n",
       "      <td>1.234262e+01</td>\n",
       "      <td>-1.70986e-06</td>\n",
       "      <td>4.96842</td>\n",
       "      <td>120</td>\n",
       "    </tr>\n",
       "    <tr>\n",
       "      <th>4</th>\n",
       "      <td>[-0.8175502757051053, -0.4087541360118836, 2.2...</td>\n",
       "      <td>-1.2263</td>\n",
       "      <td>1.414214</td>\n",
       "      <td>2.949751e+03</td>\n",
       "      <td>1.229574e+01</td>\n",
       "      <td>-6.92438e-09</td>\n",
       "      <td>4.95898</td>\n",
       "      <td>240</td>\n",
       "    </tr>\n",
       "  </tbody>\n",
       "</table>\n",
       "</div>"
      ],
      "text/plain": [
       "                                                           x     f(x)  \\\n",
       "iteration                                                               \n",
       "0                                               [20, 30, 15]       50   \n",
       "1          [-0.8177814021960215, -0.41886455417881613, 2.... -1.23665   \n",
       "2          [-0.8197161026753894, -0.4112158922212423, 2.2... -1.23093   \n",
       "3          [-0.8184254617017457, -0.409430908444137, 2.22... -1.22786   \n",
       "4          [-0.8175502757051053, -0.4087541360118836, 2.2...  -1.2263   \n",
       "\n",
       "           ||f'(x)||          P(x)          p(x)        h1(x)    h2(x)   mu  \n",
       "iteration                                                                    \n",
       "0           1.414214  8.819813e+07  2.939936e+06           64     2424   30  \n",
       "1           1.414214  3.768396e+02  1.260254e+01 -0.000397989  5.02047   30  \n",
       "2           1.414214  7.448550e+02  1.243477e+01 -5.67167e-05  4.98694   60  \n",
       "3           1.414214  1.479886e+03  1.234262e+01 -1.70986e-06  4.96842  120  \n",
       "4           1.414214  2.949751e+03  1.229574e+01 -6.92438e-09  4.95898  240  "
      ]
     },
     "execution_count": 40,
     "metadata": {},
     "output_type": "execute_result"
    }
   ],
   "source": [
    "# start optimization loop\n",
    "# Run this cell again to get more iterates\n",
    "i += 1 \n",
    "result = newton(JacP(mu), x, maxiter=1000,disp=False)\n",
    "x = result\n",
    "data.loc[i] = [x, f(x), normJacF(x), P(mu)(x), p(x), h1(x), h2(x), mu, mu*h1(x), mu*h2(x)]\n",
    "mu *= 2\n",
    "data"
   ]
  },
  {
   "cell_type": "code",
   "execution_count": 24,
   "metadata": {},
   "outputs": [
    {
     "data": {
      "text/plain": [
       "<matplotlib.axes._subplots.AxesSubplot at 0x1b8d4dd3608>"
      ]
     },
     "execution_count": 24,
     "metadata": {},
     "output_type": "execute_result"
    },
    {
     "data": {
      "image/png": "[encoded data removed]",
      "text/plain": [
       "<Figure size 432x288 with 1 Axes>"
      ]
     },
     "metadata": {
      "needs_background": "light"
     },
     "output_type": "display_data"
    }
   ],
   "source": [
    "data.plot(y='f(x)', use_index=True,ylim=(-1,1))"
   ]
  },
  {
   "cell_type": "markdown",
   "metadata": {},
   "source": [
    "x seems to be converging to something around (1,1,0)"
   ]
  },
  {
   "cell_type": "markdown",
   "metadata": {},
   "source": [
    "## Augmented Lagrangian Method"
   ]
  },
  {
   "cell_type": "code",
   "execution_count": 124,
   "metadata": {},
   "outputs": [
    {
     "name": "stdout",
     "output_type": "stream",
     "text": [
      "0\n",
      "1.2000000000000002\n",
      "0\n",
      "0\n",
      "2.220446049250313e-16\n",
      "2.220446049250313e-16\n"
     ]
    }
   ],
   "source": [
    "print(f([0,0,1]))\n",
    "print(f([4/5, 2/5, -1/5]))\n",
    "print(h1([0,0,1]))\n",
    "print(h2([0,0,1]))\n",
    "print(h1([4/5, 2/5, -1/5]))\n",
    "print(h2([4/5, 2/5, -1/5]))"
   ]
  },
  {
   "cell_type": "code",
   "execution_count": 44,
   "metadata": {},
   "outputs": [],
   "source": [
    "# feasibility penalization function\n",
    "p = lambda x: 1/2 * (h1(x)**2 + h2(x)**2)\n",
    "# Merit function\n",
    "L = lambda mu,lamb1,lamb2: lambda x: f(x) + lamb1*h1(x) + lamb2*h2(x) + mu*p(x)\n",
    "\n",
    "JacL = lambda mu,lamb1,lamb2: lambda x: np.array([\n",
    "    1 + lamb1 + 2*lamb2*x[0] + 1/2*mu *( 4*x[0]*(x[0]**2 + 2*x[1]**2 - 1) + 2*(x[0] + x[1] + x[2] - 1) ),\n",
    "    1 + lamb1 + 4*lamb2*x[1] + 1/2*mu*(8*x[1]*(x[0]**2+2*x[1]**2-1) + 2*(x[0] + x[1] + x[2] - 1)),\n",
    "    lamb1 + 2*lamb2*x[2] + mu*(x[0]+x[1]+x[2]-1)])"
   ]
  },
  {
   "cell_type": "code",
   "execution_count": 154,
   "metadata": {},
   "outputs": [
    {
     "data": {
      "text/html": [
       "<div>\n",
       "<style scoped>\n",
       "    .dataframe tbody tr th:only-of-type {\n",
       "        vertical-align: middle;\n",
       "    }\n",
       "\n",
       "    .dataframe tbody tr th {\n",
       "        vertical-align: top;\n",
       "    }\n",
       "\n",
       "    .dataframe thead th {\n",
       "        text-align: right;\n",
       "    }\n",
       "</style>\n",
       "<table border=\"1\" class=\"dataframe\">\n",
       "  <thead>\n",
       "    <tr style=\"text-align: right;\">\n",
       "      <th></th>\n",
       "      <th>x</th>\n",
       "      <th>f(x)</th>\n",
       "      <th>||f'(x)||</th>\n",
       "      <th>L(x)</th>\n",
       "      <th>p(x)</th>\n",
       "      <th>h1(x)</th>\n",
       "      <th>h2(x)</th>\n",
       "      <th>mu</th>\n",
       "      <th>lambda1</th>\n",
       "      <th>lambda2</th>\n",
       "    </tr>\n",
       "    <tr>\n",
       "      <th>iteration</th>\n",
       "      <th></th>\n",
       "      <th></th>\n",
       "      <th></th>\n",
       "      <th></th>\n",
       "      <th></th>\n",
       "      <th></th>\n",
       "      <th></th>\n",
       "      <th></th>\n",
       "      <th></th>\n",
       "      <th></th>\n",
       "    </tr>\n",
       "  </thead>\n",
       "  <tbody>\n",
       "    <tr>\n",
       "      <th>0</th>\n",
       "      <td>[20, 30, 15]</td>\n",
       "      <td>50</td>\n",
       "      <td>1.414214</td>\n",
       "      <td>5884898.0</td>\n",
       "      <td>2939936.0</td>\n",
       "      <td>64</td>\n",
       "      <td>2424</td>\n",
       "      <td>2</td>\n",
       "      <td>2</td>\n",
       "      <td>2</td>\n",
       "    </tr>\n",
       "  </tbody>\n",
       "</table>\n",
       "</div>"
      ],
      "text/plain": [
       "                      x f(x)  ||f'(x)||       L(x)       p(x) h1(x) h2(x) mu  \\\n",
       "iteration                                                                      \n",
       "0          [20, 30, 15]   50   1.414214  5884898.0  2939936.0    64  2424  2   \n",
       "\n",
       "          lambda1 lambda2  \n",
       "iteration                  \n",
       "0               2       2  "
      ]
     },
     "execution_count": 154,
     "metadata": {},
     "output_type": "execute_result"
    }
   ],
   "source": [
    "dataAug = pd.DataFrame(columns=['iteration','x', 'f(x)',\"||f'(x)||\",'L(x)','p(x)','h1(x)', 'h2(x)','mu','lambda1','lambda2']).set_index('iteration')\n",
    "# initial condition\n",
    "j=0 # iteration\n",
    "w = [20,30,15]\n",
    "mu = 2\n",
    "lamb1 = 2\n",
    "lamb2 = 2\n",
    "dataAug.loc[j] = [w,f(w),normJacF(w),L(mu,lamb1,lamb2)(w),p(w),h1(w),h2(w),mu,lamb1,lamb2]\n",
    "dataAug"
   ]
  },
  {
   "cell_type": "code",
   "execution_count": 155,
   "metadata": {},
   "outputs": [
    {
     "name": "stderr",
     "output_type": "stream",
     "text": [
      "/Users/simaonovais/.pyenv/versions/3.8.1/envs/optimization/lib/python3.8/site-packages/scipy/optimize/zeros.py:463: RuntimeWarning: some failed to converge after 15000 iterations\n",
      "  warnings.warn(msg, RuntimeWarning)\n"
     ]
    },
    {
     "data": {
      "text/html": [
       "<div>\n",
       "<style scoped>\n",
       "    .dataframe tbody tr th:only-of-type {\n",
       "        vertical-align: middle;\n",
       "    }\n",
       "\n",
       "    .dataframe tbody tr th {\n",
       "        vertical-align: top;\n",
       "    }\n",
       "\n",
       "    .dataframe thead th {\n",
       "        text-align: right;\n",
       "    }\n",
       "</style>\n",
       "<table border=\"1\" class=\"dataframe\">\n",
       "  <thead>\n",
       "    <tr style=\"text-align: right;\">\n",
       "      <th></th>\n",
       "      <th>x</th>\n",
       "      <th>f(x)</th>\n",
       "      <th>||f'(x)||</th>\n",
       "      <th>L(x)</th>\n",
       "      <th>p(x)</th>\n",
       "      <th>h1(x)</th>\n",
       "      <th>h2(x)</th>\n",
       "      <th>mu</th>\n",
       "      <th>lambda1</th>\n",
       "      <th>lambda2</th>\n",
       "    </tr>\n",
       "    <tr>\n",
       "      <th>iteration</th>\n",
       "      <th></th>\n",
       "      <th></th>\n",
       "      <th></th>\n",
       "      <th></th>\n",
       "      <th></th>\n",
       "      <th></th>\n",
       "      <th></th>\n",
       "      <th></th>\n",
       "      <th></th>\n",
       "      <th></th>\n",
       "    </tr>\n",
       "  </thead>\n",
       "  <tbody>\n",
       "    <tr>\n",
       "      <th>99</th>\n",
       "      <td>[0.7892946796692468, 0.387648201903507, -0.092...</td>\n",
       "      <td>1.17694</td>\n",
       "      <td>1.414214</td>\n",
       "      <td>1.038298</td>\n",
       "      <td>0.005839</td>\n",
       "      <td>0.0841066</td>\n",
       "      <td>-0.0678531</td>\n",
       "      <td>35</td>\n",
       "      <td>-2.61192</td>\n",
       "      <td>1.8176</td>\n",
       "    </tr>\n",
       "    <tr>\n",
       "      <th>100</th>\n",
       "      <td>[0.833979906299365, 0.3921145091610131, -0.243...</td>\n",
       "      <td>1.22609</td>\n",
       "      <td>1.414214</td>\n",
       "      <td>1.259322</td>\n",
       "      <td>0.002114</td>\n",
       "      <td>-0.017832</td>\n",
       "      <td>0.0625301</td>\n",
       "      <td>35</td>\n",
       "      <td>0.331812</td>\n",
       "      <td>-0.557256</td>\n",
       "    </tr>\n",
       "    <tr>\n",
       "      <th>101</th>\n",
       "      <td>[0.9148117030482565, -0.24136177246860674, 0.3...</td>\n",
       "      <td>0.67345</td>\n",
       "      <td>1.414214</td>\n",
       "      <td>0.802597</td>\n",
       "      <td>0.001320</td>\n",
       "      <td>-0.0202198</td>\n",
       "      <td>0.0472297</td>\n",
       "      <td>35</td>\n",
       "      <td>-0.292306</td>\n",
       "      <td>1.6313</td>\n",
       "    </tr>\n",
       "  </tbody>\n",
       "</table>\n",
       "</div>"
      ],
      "text/plain": [
       "                                                           x     f(x)  \\\n",
       "iteration                                                               \n",
       "99         [0.7892946796692468, 0.387648201903507, -0.092...  1.17694   \n",
       "100        [0.833979906299365, 0.3921145091610131, -0.243...  1.22609   \n",
       "101        [0.9148117030482565, -0.24136177246860674, 0.3...  0.67345   \n",
       "\n",
       "           ||f'(x)||      L(x)      p(x)      h1(x)      h2(x)  mu   lambda1  \\\n",
       "iteration                                                                      \n",
       "99          1.414214  1.038298  0.005839  0.0841066 -0.0678531  35  -2.61192   \n",
       "100         1.414214  1.259322  0.002114  -0.017832  0.0625301  35  0.331812   \n",
       "101         1.414214  0.802597  0.001320 -0.0202198  0.0472297  35 -0.292306   \n",
       "\n",
       "            lambda2  \n",
       "iteration            \n",
       "99           1.8176  \n",
       "100       -0.557256  \n",
       "101          1.6313  "
      ]
     },
     "execution_count": 155,
     "metadata": {},
     "output_type": "execute_result"
    }
   ],
   "source": [
    "# start optimization loop\n",
    "# Run this cell again to get more iterates\n",
    "max_iter = 100\n",
    "while j <= max_iter:\n",
    "    j += 1 \n",
    "    previous_f = dataAug.loc[j-1,'f(x)']\n",
    "    if f(w) < 0.7*previous_f:\n",
    "        mu += 3\n",
    "    res = newton(JacL(mu,lamb1,lamb2), w, maxiter=15000,disp=False)\n",
    "    w = res\n",
    "    dataAug.loc[j] = [w, f(w), normJacF(w), L(mu,lamb1,lamb2)(w), p(w), h1(w),h2(w), mu, lamb1,lamb2]\n",
    "    lamb1 = lamb1 + mu * h1(w)\n",
    "    lamb2 = lamb2 + mu * h2(w)\n",
    "dataAug.tail(3)"
   ]
  },
  {
   "cell_type": "code",
   "execution_count": 156,
   "metadata": {},
   "outputs": [
    {
     "data": {
      "text/html": [
       "<div>\n",
       "<style scoped>\n",
       "    .dataframe tbody tr th:only-of-type {\n",
       "        vertical-align: middle;\n",
       "    }\n",
       "\n",
       "    .dataframe tbody tr th {\n",
       "        vertical-align: top;\n",
       "    }\n",
       "\n",
       "    .dataframe thead th {\n",
       "        text-align: right;\n",
       "    }\n",
       "</style>\n",
       "<table border=\"1\" class=\"dataframe\">\n",
       "  <thead>\n",
       "    <tr style=\"text-align: right;\">\n",
       "      <th></th>\n",
       "      <th>x</th>\n",
       "      <th>f(x)</th>\n",
       "      <th>||f'(x)||</th>\n",
       "      <th>L(x)</th>\n",
       "      <th>p(x)</th>\n",
       "      <th>h1(x)</th>\n",
       "      <th>h2(x)</th>\n",
       "      <th>mu</th>\n",
       "      <th>lambda1</th>\n",
       "      <th>lambda2</th>\n",
       "    </tr>\n",
       "    <tr>\n",
       "      <th>iteration</th>\n",
       "      <th></th>\n",
       "      <th></th>\n",
       "      <th></th>\n",
       "      <th></th>\n",
       "      <th></th>\n",
       "      <th></th>\n",
       "      <th></th>\n",
       "      <th></th>\n",
       "      <th></th>\n",
       "      <th></th>\n",
       "    </tr>\n",
       "  </thead>\n",
       "  <tbody>\n",
       "    <tr>\n",
       "      <th>99</th>\n",
       "      <td>[0.7892946796692468, 0.387648201903507, -0.092...</td>\n",
       "      <td>1.17694</td>\n",
       "      <td>1.414214</td>\n",
       "      <td>1.038298</td>\n",
       "      <td>0.005839</td>\n",
       "      <td>0.0841066</td>\n",
       "      <td>-0.0678531</td>\n",
       "      <td>35</td>\n",
       "      <td>-2.61192</td>\n",
       "      <td>1.8176</td>\n",
       "    </tr>\n",
       "    <tr>\n",
       "      <th>100</th>\n",
       "      <td>[0.833979906299365, 0.3921145091610131, -0.243...</td>\n",
       "      <td>1.22609</td>\n",
       "      <td>1.414214</td>\n",
       "      <td>1.259322</td>\n",
       "      <td>0.002114</td>\n",
       "      <td>-0.017832</td>\n",
       "      <td>0.0625301</td>\n",
       "      <td>35</td>\n",
       "      <td>0.331812</td>\n",
       "      <td>-0.557256</td>\n",
       "    </tr>\n",
       "    <tr>\n",
       "      <th>101</th>\n",
       "      <td>[0.9148117030482565, -0.24136177246860674, 0.3...</td>\n",
       "      <td>0.67345</td>\n",
       "      <td>1.414214</td>\n",
       "      <td>0.802597</td>\n",
       "      <td>0.001320</td>\n",
       "      <td>-0.0202198</td>\n",
       "      <td>0.0472297</td>\n",
       "      <td>35</td>\n",
       "      <td>-0.292306</td>\n",
       "      <td>1.6313</td>\n",
       "    </tr>\n",
       "  </tbody>\n",
       "</table>\n",
       "</div>"
      ],
      "text/plain": [
       "                                                           x     f(x)  \\\n",
       "iteration                                                               \n",
       "99         [0.7892946796692468, 0.387648201903507, -0.092...  1.17694   \n",
       "100        [0.833979906299365, 0.3921145091610131, -0.243...  1.22609   \n",
       "101        [0.9148117030482565, -0.24136177246860674, 0.3...  0.67345   \n",
       "\n",
       "           ||f'(x)||      L(x)      p(x)      h1(x)      h2(x)  mu   lambda1  \\\n",
       "iteration                                                                      \n",
       "99          1.414214  1.038298  0.005839  0.0841066 -0.0678531  35  -2.61192   \n",
       "100         1.414214  1.259322  0.002114  -0.017832  0.0625301  35  0.331812   \n",
       "101         1.414214  0.802597  0.001320 -0.0202198  0.0472297  35 -0.292306   \n",
       "\n",
       "            lambda2  \n",
       "iteration            \n",
       "99           1.8176  \n",
       "100       -0.557256  \n",
       "101          1.6313  "
      ]
     },
     "execution_count": 156,
     "metadata": {},
     "output_type": "execute_result"
    }
   ],
   "source": [
    "dataAug.tail(3)"
   ]
  },
  {
   "cell_type": "code",
   "execution_count": 157,
   "metadata": {},
   "outputs": [
    {
     "data": {
      "text/plain": [
       "<matplotlib.axes._subplots.AxesSubplot at 0x11e7511f0>"
      ]
     },
     "execution_count": 157,
     "metadata": {},
     "output_type": "execute_result"
    },
    {
     "data": {
      "image/png": "[encoded data removed]",
      "text/plain": [
       "<Figure size 432x288 with 1 Axes>"
      ]
     },
     "metadata": {
      "needs_background": "light"
     },
     "output_type": "display_data"
    }
   ],
   "source": [
    "dataAug.plot(y='f(x)', use_index=True,ylim=(-1,3))"
   ]
  }
 ],
 "metadata": {
  "kernelspec": {
   "display_name": "Python 3",
   "language": "python",
   "name": "python3"
  },
  "language_info": {
   "codemirror_mode": {
    "name": "ipython",
    "version": 3
   },
   "file_extension": ".py",
   "mimetype": "text/x-python",
   "name": "python",
   "nbconvert_exporter": "python",
   "pygments_lexer": "ipython3",
   "version": "3.7.1"
  }
 },
 "nbformat": 4,
 "nbformat_minor": 4
}
