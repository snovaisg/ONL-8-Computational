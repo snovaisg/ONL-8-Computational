{
 "cells": [
  {
   "cell_type": "code",
   "execution_count": 3,
   "metadata": {},
   "outputs": [],
   "source": [
    "import numpy as np\n",
    "from scipy.optimize import minimize\n",
    "#import autograd.numpy as np\n",
    "#from autograd import grad\n",
    "from scipy.optimize import fsolve\n",
    "from numpy import linalg as LA\n",
    "import random as r"
   ]
  },
  {
   "cell_type": "code",
   "execution_count": 17,
   "metadata": {},
   "outputs": [],
   "source": [
    "def objective(X):\n",
    "    x = X[0]\n",
    "    y = X[1]\n",
    "    z = X[2]\n",
    "    return x**2 + y**2 + 16*z**2"
   ]
  },
  {
   "cell_type": "code",
   "execution_count": 18,
   "metadata": {},
   "outputs": [],
   "source": [
    "def eq(X):\n",
    "    x = X[0]\n",
    "    y = X[1]\n",
    "    z = X[2]\n",
    "    return x * y  - 1"
   ]
  },
  {
   "cell_type": "code",
   "execution_count": 19,
   "metadata": {},
   "outputs": [],
   "source": [
    "def F(L):\n",
    "    'Augmented Lagrange function'\n",
    "    x = L[0]\n",
    "    y = L[1]\n",
    "    z = L[2]\n",
    "    _lambda = L[3]\n",
    "    mew = L[4]\n",
    "    return objective([x, y, z]) + _lambda * eq([x, y, z]) + (mew/2)*eq([x, y, z])*eq([x, y, z])"
   ]
  },
  {
   "cell_type": "code",
   "execution_count": 20,
   "metadata": {},
   "outputs": [],
   "source": [
    "dfdL = grad(F, 0)\n",
    "\n",
    "def obj(L):\n",
    "    x = L[0]\n",
    "    y = L[1]\n",
    "    z = L[2]\n",
    "    _lambda = L[3]\n",
    "    mew = L[4]\n",
    "    \n",
    "    dFdx, dFdy, dFdz, dFdlam, dFdmew = dfdL(L)\n",
    "    return [dFdx, dFdy, dFdz, dFdlam, dFdmew ]"
   ]
  },
  {
   "cell_type": "code",
   "execution_count": 34,
   "metadata": {},
   "outputs": [],
   "source": [
    "def mini(obj,val):\n",
    "    x, y, z, _lam, mew = fsolve(obj, val)\n",
    "    #print(f'The answer is at {x, y, z}')\n",
    "    return x,y,z"
   ]
  },
  {
   "cell_type": "code",
   "execution_count": 39,
   "metadata": {},
   "outputs": [],
   "source": [
    "dfdF = grad(objective,0)\n",
    "\n",
    "def auglag (k):\n",
    "    \n",
    "    values = [1.0, 1.0, 1.0, 1.0, 1.0]\n",
    "    cont = 1\n",
    "    prev_score = 1\n",
    "    \n",
    "    while cont<k:\n",
    "        \n",
    "        res = mini(obj,values)\n",
    "        \n",
    "        x = values[0]\n",
    "        y = values[1]\n",
    "        z = values[2]\n",
    "        lamb = values[3]\n",
    "        mu =  values[4]\n",
    "        \n",
    "        mu = mu + r.uniform(0.1, 2.0)   \n",
    "        values[4] = mu\n",
    "        \n",
    "        lamb = lamb + mu * eq([x, y, z])\n",
    "        values[3] = lamb \n",
    "        \n",
    "        values = [res[0],res[1],res[2], lamb, mu]\n",
    "        \n",
    "        cont = cont + 1\n",
    "        \n",
    "        score = objective(res)\n",
    "        \n",
    "        if score < prev_score + 0.1 and score > prev_score - 0.1:\n",
    "            break\n",
    "            \n",
    "        prev_score = score\n",
    "        \n",
    "        print(res,cont,score)\n",
    "    return(res,cont,score)"
   ]
  },
  {
   "cell_type": "code",
   "execution_count": 41,
   "metadata": {},
   "outputs": [
    {
     "name": "stdout",
     "output_type": "stream",
     "text": [
      "(1.0, 1.0, -1.2116903504194741e-27) 2 2.0\n"
     ]
    },
    {
     "data": {
      "text/plain": [
       "((1.000000000000001, 0.999999999999999, 0.0), 3, 2.0)"
      ]
     },
     "execution_count": 41,
     "metadata": {},
     "output_type": "execute_result"
    }
   ],
   "source": [
    "k= 1000\n",
    "auglag ( k)"
   ]
  },
  {
   "cell_type": "code",
   "execution_count": null,
   "metadata": {},
   "outputs": [],
   "source": []
  }
 ],
 "metadata": {
  "kernelspec": {
   "display_name": "Python 3",
   "language": "python",
   "name": "python3"
  },
  "language_info": {
   "codemirror_mode": {
    "name": "ipython",
    "version": 3
   },
   "file_extension": ".py",
   "mimetype": "text/x-python",
   "name": "python",
   "nbconvert_exporter": "python",
   "pygments_lexer": "ipython3",
   "version": "3.8.1"
  }
 },
 "nbformat": 4,
 "nbformat_minor": 4
}
