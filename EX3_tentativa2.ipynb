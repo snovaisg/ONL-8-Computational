{
 "cells": [
  {
   "cell_type": "markdown",
   "metadata": {},
   "source": [
    "# Exercise 3\n",
    "\n",
    "## Function we want to minimize\n",
    "\n",
    "$f(x) = x + y$ \n",
    "\n",
    "## subject to the constraint\n",
    "\n",
    "$h1(x) = x + y + z - 1$\n",
    "\n",
    "$ and $\n",
    "\n",
    "$h2(x) = x^{2} + 2y^{2} + z^{2} - 1 $\n",
    "\n",
    "# Let's define the merit function\n",
    "\n",
    "## pure\n",
    "- $p(x) = \\frac{1}{2}h_{1}(x)^Th_{1}(x) + \\frac{1}{2}h_{2}(x)^Th_{2}(x) = ||h(x)||_2^2 = \\frac{1}{2}(x + y + z - 1)^T (x + y + z - 1) + \\frac{1}{2}(x^{2} + 2y^{2} + z^{2} - 1)^T(x^{2} + 2y^{2} + z^{2} - 1)$\n",
    "\n",
    "$P(x,\\mu) = f(x) + \\mu p(x) = x + y + \\frac{\\mu}{2}[(x + y + z - 1)^T (x + y + z - 1) + (x^{2} + 2y^{2} + z^{2} - 1)^T(x^{2} + 2y^{2} + z^{2} - 1)]$\n",
    "\n",
    "## Augmented Lagrangian\n",
    "\n",
    "$\n",
    "\\begin{equation}\n",
    "\\begin{aligned}\n",
    "L(x,\\lambda,\\mu) &= f(x) + \\lambda^T_{1}h_{1}(x) + \\lambda^T_{2}h_{2}(x) + \\frac{\\mu}{2}(h_{1}(x)^Th_{1}(x) + h_{2}(x)^Th_{2}(x)) \\\\\n",
    "&= x + y + \\lambda_{1}^T(x + y + z - 1) + \\lambda_{2}^T(x^{2} + 2y^{2} + z^{2} - 1) + \\frac{\\mu}{2}[(x + y + z - 1)^T (x + y + z - 1) + (x^{2} + 2y^{2} + z^{2} - 1)^T(x^{2} + 2y^{2} + z^{2} - 1)]\n",
    "\\end{aligned}\n",
    "\\end{equation}\n",
    "$\n",
    "\n",
    "# Algorithms\n",
    "\n",
    "## pure\n",
    "\n",
    "1. For $k=0$ choose: $\\mu_0, x_0$\n",
    "2. $x_{k+1}$ = $argmin_x$ $P(x, \\mu_k)$\n",
    "3. Choose $\\mu_{k+1} > \\mu_k$, $k=k+1$, repeat step 2.\n",
    "\n",
    "## Augmented Lagrangian\n",
    "\n",
    "1. For $k=0$, choose: $\\lambda_0, x_0, \\mu_0$\n",
    "2. $x_{k+1}$ = $argmin_x$ $L(x,\\lambda_k, \\mu_k)$\n",
    "3. $\\lambda_k$\n",
    "\n",
    "\n",
    "# Roadmap\n",
    "\n",
    "- [x] Find optimization algorithm from scipy\n",
    "2. Create naive optimization loop for pure method (no visualizations, no keeping track of metrics) [ ]\n",
    "3. Once that is done, start recording certain metrics (nº iterations, $f(x_k)$, $P(x,\\mu)$, $\\mu$ ) [ ]\n",
    "4. Repeat 2,3 for Augmented Lagrangian [ ]\n",
    "\n"
   ]
  },
  {
   "cell_type": "code",
   "execution_count": 6,
   "metadata": {},
   "outputs": [],
   "source": [
    "# optimization algorithm to minimize unconstrained function\n",
    "from scipy.optimize import minimize\n",
    "import pandas as pd\n",
    "import numpy as np\n",
    "import matplotlib as plt\n",
    "from scipy.optimize import newton"
   ]
  },
  {
   "cell_type": "code",
   "execution_count": 2,
   "metadata": {},
   "outputs": [],
   "source": [
    "# function to minimize\n",
    "f = lambda x: x[0] + x[1]\n",
    "# its gradient/jacobian\n",
    "JacF = lambda x: [1, 1]\n",
    "# norm of its gradient/jacobian\n",
    "normJacF = lambda x: np.linalg.norm(JacF(x))\n",
    "# constraint\n",
    "h1 = lambda x: x[0] + x[1] + x[2] - 1\n",
    "h2 = lambda x: x[0]**2 + 2*x[1]**2 + x[2]**2 - 1"
   ]
  },
  {
   "cell_type": "markdown",
   "metadata": {},
   "source": [
    "## Penalty Method"
   ]
  },
  {
   "cell_type": "code",
   "execution_count": 48,
   "metadata": {},
   "outputs": [],
   "source": [
    "# feasibility penalization function\n",
    "p = lambda x: 1/2 *( h1(x)**2 + h2(x)**2 )\n",
    "# Merit function\n",
    "P = lambda mu: lambda x: f(x) + mu*p(x)\n",
    "JacP = lambda mu: lambda x: np.array([2*mu*x[0]*(x[0]**2 +2*x[1]**2 +x[2]**2 -1 ) + mu *(x[0]+x[1]+x[2]-1) +1 ,\n",
    "                                     4*mu*x[1]*(x[0]**2 +2*x[1]**2 +x[2]**2 -1 ) + mu *(x[0]+x[1]+x[2]-1) +1,\n",
    "                                     mu*(2*x[2]*(x[0]**2 +2*x[1]**2 +x[2]**2 -1) +x[0]+x[1]+x[2]-1)])"
   ]
  },
  {
   "cell_type": "code",
   "execution_count": 49,
   "metadata": {},
   "outputs": [
    {
     "data": {
      "text/html": [
       "<div>\n",
       "<style scoped>\n",
       "    .dataframe tbody tr th:only-of-type {\n",
       "        vertical-align: middle;\n",
       "    }\n",
       "\n",
       "    .dataframe tbody tr th {\n",
       "        vertical-align: top;\n",
       "    }\n",
       "\n",
       "    .dataframe thead th {\n",
       "        text-align: right;\n",
       "    }\n",
       "</style>\n",
       "<table border=\"1\" class=\"dataframe\">\n",
       "  <thead>\n",
       "    <tr style=\"text-align: right;\">\n",
       "      <th></th>\n",
       "      <th>x</th>\n",
       "      <th>f(x)</th>\n",
       "      <th>||f'(x)||</th>\n",
       "      <th>P(x)</th>\n",
       "      <th>p(x)</th>\n",
       "      <th>h1(x)</th>\n",
       "      <th>h2(x)</th>\n",
       "      <th>mu</th>\n",
       "      <th>mu*h1(x)</th>\n",
       "      <th>mu*h2(x)</th>\n",
       "    </tr>\n",
       "    <tr>\n",
       "      <th>iteration</th>\n",
       "      <th></th>\n",
       "      <th></th>\n",
       "      <th></th>\n",
       "      <th></th>\n",
       "      <th></th>\n",
       "      <th></th>\n",
       "      <th></th>\n",
       "      <th></th>\n",
       "      <th></th>\n",
       "      <th></th>\n",
       "    </tr>\n",
       "  </thead>\n",
       "  <tbody>\n",
       "    <tr>\n",
       "      <td>0</td>\n",
       "      <td>[20, 30, 15]</td>\n",
       "      <td>50</td>\n",
       "      <td>1.414214</td>\n",
       "      <td>88198130.0</td>\n",
       "      <td>2939936.0</td>\n",
       "      <td>64</td>\n",
       "      <td>2424</td>\n",
       "      <td>30</td>\n",
       "      <td>1920</td>\n",
       "      <td>72720</td>\n",
       "    </tr>\n",
       "  </tbody>\n",
       "</table>\n",
       "</div>"
      ],
      "text/plain": [
       "                      x f(x)  ||f'(x)||        P(x)       p(x) h1(x) h2(x)  \\\n",
       "iteration                                                                    \n",
       "0          [20, 30, 15]   50   1.414214  88198130.0  2939936.0    64  2424   \n",
       "\n",
       "           mu mu*h1(x) mu*h2(x)  \n",
       "iteration                        \n",
       "0          30     1920    72720  "
      ]
     },
     "execution_count": 49,
     "metadata": {},
     "output_type": "execute_result"
    }
   ],
   "source": [
    "data = pd.DataFrame(columns=['iteration','x', 'f(x)',\"||f'(x)||\",'P(x)','p(x)','h1(x)','h2(x)','mu', 'mu*h1(x)', 'mu*h2(x)']).set_index('iteration')\n",
    "# initial condition\n",
    "i=0 # iteration\n",
    "x = [20,30,15]\n",
    "mu = 30\n",
    "data.loc[i] = [x,f(x),normJacF(x),P(mu)(x),p(x),h1(x), h2(x), mu, mu*h1(x), mu*h2(x)]\n",
    "data"
   ]
  },
  {
   "cell_type": "code",
   "execution_count": 58,
   "metadata": {},
   "outputs": [
    {
     "data": {
      "text/html": [
       "<div>\n",
       "<style scoped>\n",
       "    .dataframe tbody tr th:only-of-type {\n",
       "        vertical-align: middle;\n",
       "    }\n",
       "\n",
       "    .dataframe tbody tr th {\n",
       "        vertical-align: top;\n",
       "    }\n",
       "\n",
       "    .dataframe thead th {\n",
       "        text-align: right;\n",
       "    }\n",
       "</style>\n",
       "<table border=\"1\" class=\"dataframe\">\n",
       "  <thead>\n",
       "    <tr style=\"text-align: right;\">\n",
       "      <th></th>\n",
       "      <th>x</th>\n",
       "      <th>f(x)</th>\n",
       "      <th>||f'(x)||</th>\n",
       "      <th>P(x)</th>\n",
       "      <th>p(x)</th>\n",
       "      <th>h1(x)</th>\n",
       "      <th>h2(x)</th>\n",
       "      <th>mu</th>\n",
       "      <th>mu*h1(x)</th>\n",
       "      <th>mu*h2(x)</th>\n",
       "    </tr>\n",
       "    <tr>\n",
       "      <th>iteration</th>\n",
       "      <th></th>\n",
       "      <th></th>\n",
       "      <th></th>\n",
       "      <th></th>\n",
       "      <th></th>\n",
       "      <th></th>\n",
       "      <th></th>\n",
       "      <th></th>\n",
       "      <th></th>\n",
       "      <th></th>\n",
       "    </tr>\n",
       "  </thead>\n",
       "  <tbody>\n",
       "    <tr>\n",
       "      <td>7</td>\n",
       "      <td>[-0.0006689814162367001, 1.8374464558251165e-0...</td>\n",
       "      <td>-0.000650607</td>\n",
       "      <td>1.414214</td>\n",
       "      <td>-0.000325</td>\n",
       "      <td>1.694369e-07</td>\n",
       "      <td>-0.000520498</td>\n",
       "      <td>0.000260682</td>\n",
       "      <td>1920</td>\n",
       "      <td>-0.999357</td>\n",
       "      <td>0.50051</td>\n",
       "    </tr>\n",
       "    <tr>\n",
       "      <td>8</td>\n",
       "      <td>[0.0018685385195829306, -0.002186503039349827,...</td>\n",
       "      <td>-0.000317965</td>\n",
       "      <td>1.414214</td>\n",
       "      <td>-0.000156</td>\n",
       "      <td>4.211821e-08</td>\n",
       "      <td>-0.000259597</td>\n",
       "      <td>0.000129792</td>\n",
       "      <td>3840</td>\n",
       "      <td>-0.996851</td>\n",
       "      <td>0.498403</td>\n",
       "    </tr>\n",
       "    <tr>\n",
       "      <td>9</td>\n",
       "      <td>[0.0002027824719379586, -0.0003654023986967964...</td>\n",
       "      <td>-0.00016262</td>\n",
       "      <td>1.414214</td>\n",
       "      <td>-0.000081</td>\n",
       "      <td>1.059822e-08</td>\n",
       "      <td>-0.000130247</td>\n",
       "      <td>6.50549e-05</td>\n",
       "      <td>7680</td>\n",
       "      <td>-1.0003</td>\n",
       "      <td>0.499621</td>\n",
       "    </tr>\n",
       "  </tbody>\n",
       "</table>\n",
       "</div>"
      ],
      "text/plain": [
       "                                                           x         f(x)  \\\n",
       "iteration                                                                   \n",
       "7          [-0.0006689814162367001, 1.8374464558251165e-0... -0.000650607   \n",
       "8          [0.0018685385195829306, -0.002186503039349827,... -0.000317965   \n",
       "9          [0.0002027824719379586, -0.0003654023986967964...  -0.00016262   \n",
       "\n",
       "           ||f'(x)||      P(x)          p(x)        h1(x)        h2(x)    mu  \\\n",
       "iteration                                                                      \n",
       "7           1.414214 -0.000325  1.694369e-07 -0.000520498  0.000260682  1920   \n",
       "8           1.414214 -0.000156  4.211821e-08 -0.000259597  0.000129792  3840   \n",
       "9           1.414214 -0.000081  1.059822e-08 -0.000130247  6.50549e-05  7680   \n",
       "\n",
       "           mu*h1(x)  mu*h2(x)  \n",
       "iteration                      \n",
       "7         -0.999357   0.50051  \n",
       "8         -0.996851  0.498403  \n",
       "9           -1.0003  0.499621  "
      ]
     },
     "execution_count": 58,
     "metadata": {},
     "output_type": "execute_result"
    }
   ],
   "source": [
    "# start optimization loop\n",
    "# Run this cell again to get more iterates\n",
    "i += 1 \n",
    "result = newton(JacP(mu), x, maxiter=10000,disp=False)\n",
    "x = result\n",
    "data.loc[i] = [x, f(x), normJacF(x), P(mu)(x), p(x), h1(x), h2(x), mu, mu*h1(x), mu*h2(x)]\n",
    "mu *= 2\n",
    "data.tail(3)"
   ]
  },
  {
   "cell_type": "code",
   "execution_count": 61,
   "metadata": {},
   "outputs": [
    {
     "data": {
      "text/plain": [
       "<matplotlib.axes._subplots.AxesSubplot at 0x184ea97d588>"
      ]
     },
     "execution_count": 61,
     "metadata": {},
     "output_type": "execute_result"
    },
    {
     "data": {
      "image/png": "[encoded data removed]",
      "text/plain": [
       "<Figure size 432x288 with 1 Axes>"
      ]
     },
     "metadata": {
      "needs_background": "light"
     },
     "output_type": "display_data"
    }
   ],
   "source": [
    "data.plot(y='f(x)', use_index=True,ylim=(-1,1))"
   ]
  },
  {
   "cell_type": "markdown",
   "metadata": {},
   "source": [
    "x seems to be converging to something around (1,1,0)"
   ]
  },
  {
   "cell_type": "markdown",
   "metadata": {},
   "source": [
    "## Augmented Lagrangian Method"
   ]
  },
  {
   "cell_type": "code",
   "execution_count": 62,
   "metadata": {},
   "outputs": [],
   "source": [
    "# feasibility penalization function\n",
    "p = lambda x: 1/2 * (h1(x)**2 + h2(x)**2)\n",
    "# Merit function\n",
    "L = lambda mu,lamb1,lamb2: lambda x: f(x) + lamb1*h1(x) + lamb2*h2(x) + mu*p(x)\n",
    "\n",
    "JacL = lambda mu,lamb1,lamb2: lambda x: np.array([\n",
    "    1 + lamb1 + 2*lamb2*x[0] + 2*mu*x[0]*(x[0]**2 +2*x[1]**2 +x[2]**2 -1 ) + mu *(x[0]+x[1]+x[2]-1),\n",
    "    1 + lamb1 + 4*lamb2*x[1] + 4*mu*x[1]*(x[0]**2 +2*x[1]**2 +x[2]**2 -1 ) + mu *(x[0]+x[1]+x[2]-1),\n",
    "    lamb1 + 2*lamb2*x[2] + mu*(2*x[2]*(x[0]**2 +2*x[1]**2 +x[2]**2 -1) +x[0]+x[1]+x[2]-1)])"
   ]
  },
  {
   "cell_type": "code",
   "execution_count": 63,
   "metadata": {},
   "outputs": [
    {
     "data": {
      "text/html": [
       "<div>\n",
       "<style scoped>\n",
       "    .dataframe tbody tr th:only-of-type {\n",
       "        vertical-align: middle;\n",
       "    }\n",
       "\n",
       "    .dataframe tbody tr th {\n",
       "        vertical-align: top;\n",
       "    }\n",
       "\n",
       "    .dataframe thead th {\n",
       "        text-align: right;\n",
       "    }\n",
       "</style>\n",
       "<table border=\"1\" class=\"dataframe\">\n",
       "  <thead>\n",
       "    <tr style=\"text-align: right;\">\n",
       "      <th></th>\n",
       "      <th>x</th>\n",
       "      <th>f(x)</th>\n",
       "      <th>||f'(x)||</th>\n",
       "      <th>L(x)</th>\n",
       "      <th>p(x)</th>\n",
       "      <th>h1(x)</th>\n",
       "      <th>h2(x)</th>\n",
       "      <th>mu</th>\n",
       "      <th>lambda1</th>\n",
       "      <th>lambda2</th>\n",
       "    </tr>\n",
       "    <tr>\n",
       "      <th>iteration</th>\n",
       "      <th></th>\n",
       "      <th></th>\n",
       "      <th></th>\n",
       "      <th></th>\n",
       "      <th></th>\n",
       "      <th></th>\n",
       "      <th></th>\n",
       "      <th></th>\n",
       "      <th></th>\n",
       "      <th></th>\n",
       "    </tr>\n",
       "  </thead>\n",
       "  <tbody>\n",
       "    <tr>\n",
       "      <td>0</td>\n",
       "      <td>[20, 30, 15]</td>\n",
       "      <td>50</td>\n",
       "      <td>1.414214</td>\n",
       "      <td>5884898.0</td>\n",
       "      <td>2939936.0</td>\n",
       "      <td>64</td>\n",
       "      <td>2424</td>\n",
       "      <td>2</td>\n",
       "      <td>2</td>\n",
       "      <td>2</td>\n",
       "    </tr>\n",
       "  </tbody>\n",
       "</table>\n",
       "</div>"
      ],
      "text/plain": [
       "                      x f(x)  ||f'(x)||       L(x)       p(x) h1(x) h2(x) mu  \\\n",
       "iteration                                                                      \n",
       "0          [20, 30, 15]   50   1.414214  5884898.0  2939936.0    64  2424  2   \n",
       "\n",
       "          lambda1 lambda2  \n",
       "iteration                  \n",
       "0               2       2  "
      ]
     },
     "execution_count": 63,
     "metadata": {},
     "output_type": "execute_result"
    }
   ],
   "source": [
    "dataAug = pd.DataFrame(columns=['iteration','x', 'f(x)',\"||f'(x)||\",'L(x)','p(x)','h1(x)', 'h2(x)','mu','lambda1','lambda2']).set_index('iteration')\n",
    "# initial condition\n",
    "j=0 # iteration\n",
    "w = [20,30,15]\n",
    "mu = 2\n",
    "lamb1 = 2\n",
    "lamb2 = 2\n",
    "dataAug.loc[j] = [w,f(w),normJacF(w),L(mu,lamb1,lamb2)(w),p(w),h1(w),h2(w),mu,lamb1,lamb2]\n",
    "dataAug"
   ]
  },
  {
   "cell_type": "code",
   "execution_count": 73,
   "metadata": {},
   "outputs": [
    {
     "data": {
      "text/html": [
       "<div>\n",
       "<style scoped>\n",
       "    .dataframe tbody tr th:only-of-type {\n",
       "        vertical-align: middle;\n",
       "    }\n",
       "\n",
       "    .dataframe tbody tr th {\n",
       "        vertical-align: top;\n",
       "    }\n",
       "\n",
       "    .dataframe thead th {\n",
       "        text-align: right;\n",
       "    }\n",
       "</style>\n",
       "<table border=\"1\" class=\"dataframe\">\n",
       "  <thead>\n",
       "    <tr style=\"text-align: right;\">\n",
       "      <th></th>\n",
       "      <th>x</th>\n",
       "      <th>f(x)</th>\n",
       "      <th>||f'(x)||</th>\n",
       "      <th>L(x)</th>\n",
       "      <th>p(x)</th>\n",
       "      <th>h1(x)</th>\n",
       "      <th>h2(x)</th>\n",
       "      <th>mu</th>\n",
       "      <th>lambda1</th>\n",
       "      <th>lambda2</th>\n",
       "    </tr>\n",
       "    <tr>\n",
       "      <th>iteration</th>\n",
       "      <th></th>\n",
       "      <th></th>\n",
       "      <th></th>\n",
       "      <th></th>\n",
       "      <th></th>\n",
       "      <th></th>\n",
       "      <th></th>\n",
       "      <th></th>\n",
       "      <th></th>\n",
       "      <th></th>\n",
       "    </tr>\n",
       "  </thead>\n",
       "  <tbody>\n",
       "    <tr>\n",
       "      <td>8</td>\n",
       "      <td>[0.0016578850756566168, 0.0008103244495448197,...</td>\n",
       "      <td>0.00246821</td>\n",
       "      <td>1.414214</td>\n",
       "      <td>0.023284</td>\n",
       "      <td>0.000023</td>\n",
       "      <td>0.00482136</td>\n",
       "      <td>0.0047159</td>\n",
       "      <td>512</td>\n",
       "      <td>0.232647</td>\n",
       "      <td>1.70691</td>\n",
       "    </tr>\n",
       "    <tr>\n",
       "      <td>9</td>\n",
       "      <td>[-0.0004898327327410796, -0.000734508619074412...</td>\n",
       "      <td>-0.00122434</td>\n",
       "      <td>1.414214</td>\n",
       "      <td>0.011613</td>\n",
       "      <td>0.000006</td>\n",
       "      <td>-0.00240466</td>\n",
       "      <td>-0.00235792</td>\n",
       "      <td>1024</td>\n",
       "      <td>-2.22972</td>\n",
       "      <td>-0.707595</td>\n",
       "    </tr>\n",
       "    <tr>\n",
       "      <td>10</td>\n",
       "      <td>[0.0008216629601915696, -0.0002095196590835830...</td>\n",
       "      <td>0.000612143</td>\n",
       "      <td>1.414214</td>\n",
       "      <td>0.005806</td>\n",
       "      <td>0.000001</td>\n",
       "      <td>0.00120131</td>\n",
       "      <td>0.00117945</td>\n",
       "      <td>2048</td>\n",
       "      <td>0.230572</td>\n",
       "      <td>1.70793</td>\n",
       "    </tr>\n",
       "  </tbody>\n",
       "</table>\n",
       "</div>"
      ],
      "text/plain": [
       "                                                           x         f(x)  \\\n",
       "iteration                                                                   \n",
       "8          [0.0016578850756566168, 0.0008103244495448197,...   0.00246821   \n",
       "9          [-0.0004898327327410796, -0.000734508619074412...  -0.00122434   \n",
       "10         [0.0008216629601915696, -0.0002095196590835830...  0.000612143   \n",
       "\n",
       "           ||f'(x)||      L(x)      p(x)       h1(x)       h2(x)    mu  \\\n",
       "iteration                                                                \n",
       "8           1.414214  0.023284  0.000023  0.00482136   0.0047159   512   \n",
       "9           1.414214  0.011613  0.000006 -0.00240466 -0.00235792  1024   \n",
       "10          1.414214  0.005806  0.000001  0.00120131  0.00117945  2048   \n",
       "\n",
       "            lambda1   lambda2  \n",
       "iteration                      \n",
       "8          0.232647   1.70691  \n",
       "9          -2.22972 -0.707595  \n",
       "10         0.230572   1.70793  "
      ]
     },
     "execution_count": 73,
     "metadata": {},
     "output_type": "execute_result"
    }
   ],
   "source": [
    "j += 1 \n",
    "res = newton(JacL(mu,lamb1,lamb2), w, maxiter=15000,disp=False)\n",
    "w = res\n",
    "mu *= 2\n",
    "lamb1 = lamb1 + mu * h1(w)\n",
    "lamb2 = lamb2 + mu * h2(w)\n",
    "dataAug.loc[j] = [w, f(w), normJacF(w), L(mu,lamb1,lamb2)(w), p(w), h1(w),h2(w), mu, lamb1,lamb2]\n",
    "dataAug.tail(3)"
   ]
  },
  {
   "cell_type": "code",
   "execution_count": 75,
   "metadata": {},
   "outputs": [
    {
     "data": {
      "text/plain": [
       "<matplotlib.axes._subplots.AxesSubplot at 0x184eaa7a108>"
      ]
     },
     "execution_count": 75,
     "metadata": {},
     "output_type": "execute_result"
    },
    {
     "data": {
      "image/png": "[encoded data removed]",
      "text/plain": [
       "<Figure size 432x288 with 1 Axes>"
      ]
     },
     "metadata": {
      "needs_background": "light"
     },
     "output_type": "display_data"
    }
   ],
   "source": [
    "dataAug.plot(y='f(x)', use_index=True,ylim=(-1,1))"
   ]
  },
  {
   "cell_type": "code",
   "execution_count": null,
   "metadata": {},
   "outputs": [],
   "source": []
  }
 ],
 "metadata": {
  "kernelspec": {
   "display_name": "Python 3",
   "language": "python",
   "name": "python3"
  },
  "language_info": {
   "codemirror_mode": {
    "name": "ipython",
    "version": 3
   },
   "file_extension": ".py",
   "mimetype": "text/x-python",
   "name": "python",
   "nbconvert_exporter": "python",
   "pygments_lexer": "ipython3",
   "version": "3.7.4"
  }
 },
 "nbformat": 4,
 "nbformat_minor": 4
}
