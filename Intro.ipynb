{
 "cells": [
  {
   "cell_type": "markdown",
   "metadata": {},
   "source": [
    "# Exercise 1 b)\n",
    "\n",
    "## Function we want to minimize\n",
    "\n",
    "$f(x) = x_1^2 + x_2^2 + 16x_3^2$ \n",
    "\n",
    "## subject to the constraint\n",
    "\n",
    "$h(x) = x_1x_2 - 1$\n",
    "\n",
    "# Let's define the merit function\n",
    "\n",
    "## pure\n",
    "- $p(x) = \\frac{1}{2}h(x)^Th(x) = ||h(x)||_2^2 = \\frac{1}{2}(x_1x_2 - 1)^T (x_1x_2 - 1)$\n",
    "\n",
    "$P(x,\\mu) = f(x) + \\mu p(x) =  x_1^2 + x_2^2 + 16x_3^2 + \\frac{\\mu}{2}(x_1x_2 - 1)^T (x_1x_2 - 1)$\n",
    "\n",
    "## Augmented Lagrangian\n",
    "\n",
    "$\n",
    "\\begin{equation}\n",
    "\\begin{aligned}\n",
    "L(x,\\lambda,\\mu) &= f(x) + \\lambda^Th(x) + \\frac{\\mu}{2}h(x)^Th(x) \\\\\n",
    "&= x_1^2 + x_2^2 + 16x_3^2 + \\lambda^T(x_1x_2 - 1) + \\frac{\\mu}{2} (x_1x_2 - 1)^T (x_1x_2 - 1)\n",
    "\\end{aligned}\n",
    "\\end{equation}\n",
    "$\n",
    "\n",
    "# Algorithms\n",
    "\n",
    "## pure\n",
    "\n",
    "1. For $k=0$ choose: $\\mu_0, x_0$\n",
    "2. $x_{k+1}$ = $argmin_x$ $P(x, \\mu_k)$\n",
    "3. Choose $\\mu_{k+1} > \\mu_k$, $k=k+1$, repeat step 2.\n",
    "\n",
    "## Augmented Lagrangian\n",
    "\n",
    "1. For $k=0$, choose: $\\lambda_0, x_0, \\mu_0$\n",
    "2. $x_{k+1}$ = $argmin_x$ $L(x,\\lambda_k, \\mu_k)$\n",
    "3. $\\lambda_k$\n",
    "\n",
    "\n",
    "# Roadmap\n",
    "\n",
    "1. Find optimization algorithm from scipy [ ]\n",
    "2. Create naive optimization loop for pure method (no visualizations, no keeping track of metrics) [ ]\n",
    "3. Once that is done, start recording certain metrics (nº iterations, $f(x_k)$, $P(x,\\mu)$, $\\mu$ ) [ ]\n",
    "4. Repeat 2,3 for Augmented Lagrangian [ ]\n",
    "\n"
   ]
  },
  {
   "cell_type": "code",
   "execution_count": null,
   "metadata": {},
   "outputs": [],
   "source": []
  }
 ],
 "metadata": {
  "kernelspec": {
   "display_name": "Python 3",
   "language": "python",
   "name": "python3"
  },
  "language_info": {
   "codemirror_mode": {
    "name": "ipython",
    "version": 3
   },
   "file_extension": ".py",
   "mimetype": "text/x-python",
   "name": "python",
   "nbconvert_exporter": "python",
   "pygments_lexer": "ipython3",
   "version": "3.8.1"
  }
 },
 "nbformat": 4,
 "nbformat_minor": 4
}
