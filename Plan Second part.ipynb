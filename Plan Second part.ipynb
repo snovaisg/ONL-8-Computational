{
 "cells": [
  {
   "cell_type": "markdown",
   "metadata": {},
   "source": [
    "# Plan\n",
    "\n",
    "## What we have\n",
    "\n",
    "We have both methods working for both exercises. They reached the minimum but its harder for them to converge to the lagrangian multipliers\n",
    "\n",
    "## What is interesting to try next\n",
    "\n",
    "1. How the rate of increase of mu changes the optimization ( e.g. if we increase slowly, it takes a while, if we increase fast, it is quite fast. if we increase too fast, we can't bring p(x) to zero)\n",
    "2. How the initial value for mu changes the optimization (e.g. if it is too big at the start, p(x) won't go to zero)\n",
    "3. Explain why the function increases in some of the iterations (check if hessian is pd)\n",
    "4. Explain why some values of mu prevent p(x) to go to zero\n",
    "5. Explain why $mu \\cdot h(x)$ not always converges to the lagrangian multiplier"
   ]
  },
  {
   "cell_type": "markdown",
   "metadata": {},
   "source": [
    "Let's tackle point 1.\n",
    "\n",
    "- [ ] check manuel's experiments.\n",
    "- [ ] design the experiment."
   ]
  },
  {
   "cell_type": "code",
   "execution_count": null,
   "metadata": {},
   "outputs": [],
   "source": []
  }
 ],
 "metadata": {
  "kernelspec": {
   "display_name": "Python 3",
   "language": "python",
   "name": "python3"
  },
  "language_info": {
   "codemirror_mode": {
    "name": "ipython",
    "version": 3
   },
   "file_extension": ".py",
   "mimetype": "text/x-python",
   "name": "python",
   "nbconvert_exporter": "python",
   "pygments_lexer": "ipython3",
   "version": "3.8.1"
  },
  "toc": {
   "base_numbering": 1,
   "nav_menu": {},
   "number_sections": true,
   "sideBar": true,
   "skip_h1_title": false,
   "title_cell": "Table of Contents",
   "title_sidebar": "Contents",
   "toc_cell": false,
   "toc_position": {},
   "toc_section_display": true,
   "toc_window_display": false
  }
 },
 "nbformat": 4,
 "nbformat_minor": 4
}
