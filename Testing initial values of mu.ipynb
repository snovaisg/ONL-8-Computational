{
 "cells": [
  {
   "cell_type": "markdown",
   "metadata": {},
   "source": [
    "In this notebook we want to check how the initial values of mu can affect the optimization"
   ]
  },
  {
   "cell_type": "code",
   "execution_count": 253,
   "metadata": {
    "ExecuteTime": {
     "end_time": "2020-06-03T21:55:31.389972Z",
     "start_time": "2020-06-03T21:55:31.351165Z"
    }
   },
   "outputs": [
    {
     "data": {
      "text/html": [
       "        <script type=\"text/javascript\">\n",
       "        window.PlotlyConfig = {MathJaxConfig: 'local'};\n",
       "        if (window.MathJax) {MathJax.Hub.Config({SVG: {font: \"STIX-Web\"}});}\n",
       "        if (typeof require !== 'undefined') {\n",
       "        require.undef(\"plotly\");\n",
       "        requirejs.config({\n",
       "            paths: {\n",
       "                'plotly': ['https://cdn.plot.ly/plotly-latest.min']\n",
       "            }\n",
       "        });\n",
       "        require(['plotly'], function(Plotly) {\n",
       "            window._Plotly = Plotly;\n",
       "        });\n",
       "        }\n",
       "        </script>\n",
       "        "
      ]
     },
     "metadata": {},
     "output_type": "display_data"
    }
   ],
   "source": [
    "# optimization algorithm to minimize unconstrained function\n",
    "from scipy.optimize import newton\n",
    "from math import sqrt\n",
    "import pandas as pd\n",
    "\n",
    "import numpy as np\n",
    "import matplotlib as plt\n",
    "\n",
    "from tqdm.notebook import tqdm\n",
    "\n",
    "import plotly.express as px\n",
    "import cufflinks as cf\n",
    "import plotly.offline\n",
    "cf.go_offline()\n",
    "cf.set_config_file(offline=False, world_readable=True)"
   ]
  },
  {
   "cell_type": "markdown",
   "metadata": {},
   "source": [
    "# Ex 1"
   ]
  },
  {
   "cell_type": "code",
   "execution_count": 254,
   "metadata": {
    "ExecuteTime": {
     "end_time": "2020-06-03T21:55:32.518601Z",
     "start_time": "2020-06-03T21:55:32.497640Z"
    }
   },
   "outputs": [],
   "source": [
    "# function to minimize\n",
    "f = lambda x: x[0]**2 + 4*x[1]**2 + 16*x[2]**2\n",
    "# its gradient/jacobian\n",
    "JacF = lambda x: [2*x[0], 8*x[1], 32*x[2]]\n",
    "# norm of its gradient/jacobian\n",
    "normJacF = lambda x: np.linalg.norm(JacF(x))\n",
    "# constraint\n",
    "h = lambda x: x[0] * x[1] - 1\n",
    "\n",
    "# feasibility penalization function\n",
    "p = lambda x: 0.5 * h(x)**2\n",
    "# Merit function\n",
    "P = lambda mu: lambda x: f(x) + mu*p(x)\n",
    "JacP = lambda mu: lambda x: np.array([2*x[0] + mu*(x[0]*x[1]**2 -x[1]), 8*x[1] + mu*(x[1]*x[0]**2 -x[0]), 32*x[2]])"
   ]
  },
  {
   "cell_type": "markdown",
   "metadata": {},
   "source": [
    "Optimization"
   ]
  },
  {
   "cell_type": "code",
   "execution_count": 271,
   "metadata": {
    "ExecuteTime": {
     "end_time": "2020-06-03T22:06:10.248187Z",
     "start_time": "2020-06-03T22:05:35.592329Z"
    }
   },
   "outputs": [
    {
     "data": {
      "application/vnd.jupyter.widget-view+json": {
       "model_id": "d40fb639f8e249a28a9fe2ee36506c4a",
       "version_major": 2,
       "version_minor": 0
      },
      "text/plain": [
       "HBox(children=(FloatProgress(value=0.0, max=13.0), HTML(value='')))"
      ]
     },
     "metadata": {},
     "output_type": "display_data"
    },
    {
     "name": "stderr",
     "output_type": "stream",
     "text": [
      "/Users/simaonovais/.pyenv/versions/3.8.1/envs/optimization/lib/python3.8/site-packages/scipy/optimize/zeros.py:463: RuntimeWarning:\n",
      "\n",
      "some failed to converge after 5000 iterations\n",
      "\n"
     ]
    },
    {
     "name": "stdout",
     "output_type": "stream",
     "text": [
      "\n"
     ]
    }
   ],
   "source": [
    "# initial conditions\n",
    "x_start = np.array([20,30,15])\n",
    "x_min1 = np.array((sqrt(2),1/sqrt(2),0))\n",
    "mu_start_array = [0.5,2,3,5,10,20,50,100,200,500,1000,5000,100000]\n",
    "                             \n",
    "# let's create a dataframe with the first 3, \n",
    "# then 5th then 10th, then 20th iteration of each optimization\n",
    "\n",
    "data = pd.DataFrame(columns=['iteration','x', 'f(x)',\"||f'(x)||\",'P(x)','p(x)','h(x)','mu', 'mu*h(x)','mu_start', 'log10||x_k-x_min||'])\n",
    "j = 0\n",
    "for mu_start in tqdm(mu_start_array):\n",
    "    internal_method_data = pd.DataFrame(columns=['iteration','x', 'f(x)',\"||f'(x)||\",'P(x)','p(x)','h(x)','mu', 'mu*h(x)','log10||x_k-x_min||']).set_index('iteration') \n",
    "    i=0 # iteration\n",
    "    x = x_start\n",
    "    mu = mu_start\n",
    "    mu_update_coef = 2\n",
    "\n",
    "    # start optimization loop\n",
    "    max_iter = 200\n",
    "    while i <= max_iter:\n",
    "        internal_method_data.loc[i] = [x, f(x), normJacF(x), P(mu)(x), p(x), h(x), mu, mu*h(x), np.log10(np.linalg.norm(x-x_min1))]\n",
    "        if i in [1,3,5,10,12,15,17,20,50,100,150,200]:\n",
    "            data.loc[j] = [i, x, f(x), normJacF(x), P(mu)(x), p(x), h(x), mu, mu*h(x),mu_start,np.log10(np.linalg.norm(x-x_min1))]\n",
    "            j += 1\n",
    "        i += 1 \n",
    "        x = newton(JacP(mu), x, maxiter=5000)\n",
    "        mu += mu_update_coef\n"
   ]
  },
  {
   "cell_type": "markdown",
   "metadata": {},
   "source": [
    "# Preprocess data"
   ]
  },
  {
   "cell_type": "code",
   "execution_count": 275,
   "metadata": {
    "ExecuteTime": {
     "end_time": "2020-06-03T22:06:12.435130Z",
     "start_time": "2020-06-03T22:06:12.153714Z"
    }
   },
   "outputs": [
    {
     "data": {
      "application/vnd.plotly.v1+json": {
       "config": {
        "plotlyServerURL": "https://plot.ly"
       },
       "data": [
        {
         "hovertemplate": "mu_start=0.5<br>iteration=%{x}<br>log10||x_k-x_min||=%{y}<extra></extra>",
         "legendgroup": "0.5",
         "line": {
          "color": "#636efa",
          "dash": "solid"
         },
         "mode": "lines",
         "name": "0.5",
         "orientation": "v",
         "showlegend": true,
         "type": "scatter",
         "x": [
          1,
          3,
          5,
          10,
          12,
          15,
          17,
          20,
          50,
          100,
          150,
          200
         ],
         "xaxis": "x",
         "y": [
          0.19896997542303294,
          0.19897000359026065,
          0.19897000502262263,
          0.19897000437046863,
          0.19897000431151773,
          0.19897000431615286,
          0.19897000433975529,
          0.19897000433596992,
          0.19897000433601883,
          0.19897000433601883,
          0.19897000433601883,
          0.19897000433601883
         ],
         "yaxis": "y"
        },
        {
         "hovertemplate": "mu_start=2.0<br>iteration=%{x}<br>log10||x_k-x_min||=%{y}<extra></extra>",
         "legendgroup": "2.0",
         "line": {
          "color": "#EF553B",
          "dash": "solid"
         },
         "mode": "lines",
         "name": "2.0",
         "orientation": "v",
         "showlegend": true,
         "type": "scatter",
         "x": [
          1,
          3,
          5,
          10,
          12,
          15,
          17,
          20,
          50,
          100,
          150,
          200
         ],
         "xaxis": "x",
         "y": [
          0.19896871644559241,
          0.19897000434304132,
          0.19897000455764965,
          0.1989700043384661,
          0.19897000433471104,
          0.19897000433521714,
          0.19897000433615375,
          0.19897000433601725,
          0.19897000433601883,
          0.19897000433601883,
          0.19897000433601883,
          0.19897000433601883
         ],
         "yaxis": "y"
        },
        {
         "hovertemplate": "mu_start=3.0<br>iteration=%{x}<br>log10||x_k-x_min||=%{y}<extra></extra>",
         "legendgroup": "3.0",
         "line": {
          "color": "#00cc96",
          "dash": "solid"
         },
         "mode": "lines",
         "name": "3.0",
         "orientation": "v",
         "showlegend": true,
         "type": "scatter",
         "x": [
          1,
          3,
          5,
          10,
          12,
          15,
          17,
          20,
          50,
          100,
          150,
          200
         ],
         "xaxis": "x",
         "y": [
          0.1989686815013254,
          0.19897000511442056,
          0.19897000433497694,
          0.19897000432989842,
          0.19897000433831233,
          0.19897000433595596,
          0.1989700043360292,
          0.1989700043360204,
          0.19897000433601883,
          0.19897000433601883,
          0.19897000433601883,
          0.19897000433601883
         ],
         "yaxis": "y"
        },
        {
         "hovertemplate": "mu_start=5.0<br>iteration=%{x}<br>log10||x_k-x_min||=%{y}<extra></extra>",
         "legendgroup": "5.0",
         "line": {
          "color": "#ab63fa",
          "dash": "solid"
         },
         "mode": "lines",
         "name": "5.0",
         "orientation": "v",
         "showlegend": true,
         "type": "scatter",
         "x": [
          1,
          3,
          5,
          10,
          12,
          15,
          17,
          20,
          50,
          100,
          150,
          200
         ],
         "xaxis": "x",
         "y": [
          -0.05847337442825994,
          -0.39509653970086617,
          -0.5758507459609125,
          -0.841479285436556,
          -0.9142482119565343,
          -1.0047095280155578,
          -1.055956539880837,
          -1.1229962525636057,
          -1.5085438644489477,
          -1.8053297486715825,
          -1.9798138841791932,
          -2.1042383851146105
         ],
         "yaxis": "y"
        },
        {
         "hovertemplate": "mu_start=10.0<br>iteration=%{x}<br>log10||x_k-x_min||=%{y}<extra></extra>",
         "legendgroup": "10.0",
         "line": {
          "color": "#FFA15A",
          "dash": "solid"
         },
         "mode": "lines",
         "name": "10.0",
         "orientation": "v",
         "showlegend": true,
         "type": "scatter",
         "x": [
          1,
          3,
          5,
          10,
          12,
          15,
          17,
          20,
          50,
          100,
          150,
          200
         ],
         "xaxis": "x",
         "y": [
          -0.44806959610739855,
          -0.611130648440845,
          -0.7288428258607116,
          -0.9307415422003997,
          -0.9908927599311961,
          -1.0678737729919778,
          -1.1125182914179415,
          -1.171874773577827,
          -1.5293287417424113,
          -1.815718541130601,
          -1.9870917190198014,
          -2.109385995928637
         ],
         "yaxis": "y"
        },
        {
         "hovertemplate": "mu_start=20.0<br>iteration=%{x}<br>log10||x_k-x_min||=%{y}<extra></extra>",
         "legendgroup": "20.0",
         "line": {
          "color": "#19d3f3",
          "dash": "solid"
         },
         "mode": "lines",
         "name": "20.0",
         "orientation": "v",
         "showlegend": true,
         "type": "scatter",
         "x": [
          1,
          3,
          5,
          10,
          12,
          15,
          17,
          20,
          50,
          100,
          150,
          200
         ],
         "xaxis": "x",
         "y": [
          -0.7774780495570938,
          -0.8608663999799562,
          -0.9307415422004027,
          -1.0678737729922365,
          -1.1125182914181513,
          -1.1718747735772232,
          -1.2073962866216956,
          -1.255735583737266,
          -1.5680977670978502,
          -1.8364169310055842,
          -2.0009524670855043,
          -2.1202527461041756
         ],
         "yaxis": "y"
        },
        {
         "hovertemplate": "mu_start=50.0<br>iteration=%{x}<br>log10||x_k-x_min||=%{y}<extra></extra>",
         "legendgroup": "50.0",
         "line": {
          "color": "#FF6692",
          "dash": "solid"
         },
         "mode": "lines",
         "name": "50.0",
         "orientation": "v",
         "showlegend": true,
         "type": "scatter",
         "x": [
          1,
          3,
          5,
          10,
          12,
          15,
          17,
          20,
          50,
          100,
          150,
          200
         ],
         "xaxis": "x",
         "y": [
          -1.1885049776058925,
          -1.22411627359372,
          -1.255735583724498,
          -1.325963388412069,
          -1.3511644599508184,
          -1.3864005123819187,
          -1.408411696073736,
          -1.4393829022341778,
          -1.667278517367358,
          -1.892603058678626,
          -2.039994221934308,
          -2.150201570751374
         ],
         "yaxis": "y"
        },
        {
         "hovertemplate": "mu_start=100.0<br>iteration=%{x}<br>log10||x_k-x_min||=%{y}<extra></extra>",
         "legendgroup": "100.0",
         "line": {
          "color": "#B6E880",
          "dash": "solid"
         },
         "mode": "lines",
         "name": "100.0",
         "orientation": "v",
         "showlegend": true,
         "type": "scatter",
         "x": [
          1,
          3,
          5,
          10,
          12,
          15,
          17,
          20,
          50,
          100,
          150,
          200
         ],
         "xaxis": "x",
         "y": [
          -0.930240071239018,
          -1.5127650808978619,
          -1.529328754612497,
          -1.568132506240982,
          -1.5827291378961932,
          -1.6035814565229958,
          -1.6172225358283443,
          -1.636304847563785,
          -1.7944151659006442,
          -1.9727049349009527,
          -2.0986731949031796,
          -2.1958631742693706
         ],
         "yaxis": "y"
        },
        {
         "hovertemplate": "mu_start=200.0<br>iteration=%{x}<br>log10||x_k-x_min||=%{y}<extra></extra>",
         "legendgroup": "200.0",
         "line": {
          "color": "#FF97FF",
          "dash": "solid"
         },
         "mode": "lines",
         "name": "200.0",
         "orientation": "v",
         "showlegend": true,
         "type": "scatter",
         "x": [
          1,
          3,
          5,
          10,
          12,
          15,
          17,
          20,
          50,
          100,
          150,
          200
         ],
         "xaxis": "x",
         "y": [
          -1.7649220372390357,
          -1.8003526964760856,
          -1.8159249141851952,
          -1.835961988825912,
          -1.8443161298562543,
          -1.8559399081761878,
          -1.8634296676987685,
          -1.8744777229967362,
          -1.9727057497643166,
          -2.0987062132222003,
          -2.1959729306818327,
          -2.275022440797877
         ],
         "yaxis": "y"
        },
        {
         "hovertemplate": "mu_start=500.0<br>iteration=%{x}<br>log10||x_k-x_min||=%{y}<extra></extra>",
         "legendgroup": "500.0",
         "line": {
          "color": "#FECB52",
          "dash": "solid"
         },
         "mode": "lines",
         "name": "500.0",
         "orientation": "v",
         "showlegend": true,
         "type": "scatter",
         "x": [
          1,
          3,
          5,
          10,
          12,
          15,
          17,
          20,
          50,
          100,
          150,
          200
         ],
         "xaxis": "x",
         "y": [
          -2.071763728961835,
          -2.1949429371293077,
          -2.2033292418095054,
          -2.212763115403047,
          -2.216191970359853,
          -2.221355514700946,
          -2.2247363500190445,
          -2.2296518747455236,
          -2.2750227603530795,
          -2.3427846626245366,
          -2.401203419561592,
          -2.4524392874895438
         ],
         "yaxis": "y"
        },
        {
         "hovertemplate": "mu_start=1000.0<br>iteration=%{x}<br>log10||x_k-x_min||=%{y}<extra></extra>",
         "legendgroup": "1000.0",
         "line": {
          "color": "#636efa",
          "dash": "solid"
         },
         "mode": "lines",
         "name": "1000.0",
         "orientation": "v",
         "showlegend": true,
         "type": "scatter",
         "x": [
          1,
          3,
          5,
          10,
          12,
          15,
          17,
          20,
          50,
          100,
          150,
          200
         ],
         "xaxis": "x",
         "y": [
          -2.3715468598166543,
          -2.4810589410861588,
          -2.492581752896524,
          -2.5051692012846525,
          -2.5070934701175873,
          -2.5097555405313674,
          -2.5113325956780987,
          -2.5136622028713114,
          -2.538179011165711,
          -2.5774688791940883,
          -2.6122420199142082,
          -2.6444321534520303
         ],
         "yaxis": "y"
        },
        {
         "hovertemplate": "mu_start=5000.0<br>iteration=%{x}<br>log10||x_k-x_min||=%{y}<extra></extra>",
         "legendgroup": "5000.0",
         "line": {
          "color": "#EF553B",
          "dash": "solid"
         },
         "mode": "lines",
         "name": "5000.0",
         "orientation": "v",
         "showlegend": true,
         "type": "scatter",
         "x": [
          1,
          3,
          5,
          10,
          12,
          15,
          17,
          20,
          50,
          100,
          150,
          200
         ],
         "xaxis": "x",
         "y": [
          -0.9830325370405743,
          -2.1400404297108953,
          -2.4561266172986334,
          -2.7116851988096085,
          -2.767135400302027,
          -3.0277983511606856,
          -3.0655579425230477,
          -3.0735890404233324,
          -3.154144159764578,
          -3.180456063816981,
          -3.195493360002062,
          -3.2075022691939634
         ],
         "yaxis": "y"
        },
        {
         "hovertemplate": "mu_start=100000.0<br>iteration=%{x}<br>log10||x_k-x_min||=%{y}<extra></extra>",
         "legendgroup": "100000.0",
         "line": {
          "color": "#00cc96",
          "dash": "solid"
         },
         "mode": "lines",
         "name": "100000.0",
         "orientation": "v",
         "showlegend": true,
         "type": "scatter",
         "x": [
          1,
          3,
          5,
          10,
          12,
          15,
          17,
          20,
          50,
          100,
          150,
          200
         ],
         "xaxis": "x",
         "y": [
          0.29102953473777415,
          0.043725432966195035,
          -0.11018229786985502,
          -0.4162344762442323,
          -0.5306426593619257,
          -0.700838961034413,
          -0.8142642871218996,
          -0.9848837908429302,
          -1.9893691104391371,
          -2.393292551646997,
          -2.5901018585000606,
          -2.7196663390702858
         ],
         "yaxis": "y"
        }
       ],
       "layout": {
        "legend": {
         "title": {
          "text": "mu_start"
         },
         "tracegroupgap": 0
        },
        "margin": {
         "t": 60
        },
        "template": {
         "data": {
          "bar": [
           {
            "error_x": {
             "color": "#2a3f5f"
            },
            "error_y": {
             "color": "#2a3f5f"
            },
            "marker": {
             "line": {
              "color": "#E5ECF6",
              "width": 0.5
             }
            },
            "type": "bar"
           }
          ],
          "barpolar": [
           {
            "marker": {
             "line": {
              "color": "#E5ECF6",
              "width": 0.5
             }
            },
            "type": "barpolar"
           }
          ],
          "carpet": [
           {
            "aaxis": {
             "endlinecolor": "#2a3f5f",
             "gridcolor": "white",
             "linecolor": "white",
             "minorgridcolor": "white",
             "startlinecolor": "#2a3f5f"
            },
            "baxis": {
             "endlinecolor": "#2a3f5f",
             "gridcolor": "white",
             "linecolor": "white",
             "minorgridcolor": "white",
             "startlinecolor": "#2a3f5f"
            },
            "type": "carpet"
           }
          ],
          "choropleth": [
           {
            "colorbar": {
             "outlinewidth": 0,
             "ticks": ""
            },
            "type": "choropleth"
           }
          ],
          "contour": [
           {
            "colorbar": {
             "outlinewidth": 0,
             "ticks": ""
            },
            "colorscale": [
             [
              0,
              "#0d0887"
             ],
             [
              0.1111111111111111,
              "#46039f"
             ],
             [
              0.2222222222222222,
              "#7201a8"
             ],
             [
              0.3333333333333333,
              "#9c179e"
             ],
             [
              0.4444444444444444,
              "#bd3786"
             ],
             [
              0.5555555555555556,
              "#d8576b"
             ],
             [
              0.6666666666666666,
              "#ed7953"
             ],
             [
              0.7777777777777778,
              "#fb9f3a"
             ],
             [
              0.8888888888888888,
              "#fdca26"
             ],
             [
              1,
              "#f0f921"
             ]
            ],
            "type": "contour"
           }
          ],
          "contourcarpet": [
           {
            "colorbar": {
             "outlinewidth": 0,
             "ticks": ""
            },
            "type": "contourcarpet"
           }
          ],
          "heatmap": [
           {
            "colorbar": {
             "outlinewidth": 0,
             "ticks": ""
            },
            "colorscale": [
             [
              0,
              "#0d0887"
             ],
             [
              0.1111111111111111,
              "#46039f"
             ],
             [
              0.2222222222222222,
              "#7201a8"
             ],
             [
              0.3333333333333333,
              "#9c179e"
             ],
             [
              0.4444444444444444,
              "#bd3786"
             ],
             [
              0.5555555555555556,
              "#d8576b"
             ],
             [
              0.6666666666666666,
              "#ed7953"
             ],
             [
              0.7777777777777778,
              "#fb9f3a"
             ],
             [
              0.8888888888888888,
              "#fdca26"
             ],
             [
              1,
              "#f0f921"
             ]
            ],
            "type": "heatmap"
           }
          ],
          "heatmapgl": [
           {
            "colorbar": {
             "outlinewidth": 0,
             "ticks": ""
            },
            "colorscale": [
             [
              0,
              "#0d0887"
             ],
             [
              0.1111111111111111,
              "#46039f"
             ],
             [
              0.2222222222222222,
              "#7201a8"
             ],
             [
              0.3333333333333333,
              "#9c179e"
             ],
             [
              0.4444444444444444,
              "#bd3786"
             ],
             [
              0.5555555555555556,
              "#d8576b"
             ],
             [
              0.6666666666666666,
              "#ed7953"
             ],
             [
              0.7777777777777778,
              "#fb9f3a"
             ],
             [
              0.8888888888888888,
              "#fdca26"
             ],
             [
              1,
              "#f0f921"
             ]
            ],
            "type": "heatmapgl"
           }
          ],
          "histogram": [
           {
            "marker": {
             "colorbar": {
              "outlinewidth": 0,
              "ticks": ""
             }
            },
            "type": "histogram"
           }
          ],
          "histogram2d": [
           {
            "colorbar": {
             "outlinewidth": 0,
             "ticks": ""
            },
            "colorscale": [
             [
              0,
              "#0d0887"
             ],
             [
              0.1111111111111111,
              "#46039f"
             ],
             [
              0.2222222222222222,
              "#7201a8"
             ],
             [
              0.3333333333333333,
              "#9c179e"
             ],
             [
              0.4444444444444444,
              "#bd3786"
             ],
             [
              0.5555555555555556,
              "#d8576b"
             ],
             [
              0.6666666666666666,
              "#ed7953"
             ],
             [
              0.7777777777777778,
              "#fb9f3a"
             ],
             [
              0.8888888888888888,
              "#fdca26"
             ],
             [
              1,
              "#f0f921"
             ]
            ],
            "type": "histogram2d"
           }
          ],
          "histogram2dcontour": [
           {
            "colorbar": {
             "outlinewidth": 0,
             "ticks": ""
            },
            "colorscale": [
             [
              0,
              "#0d0887"
             ],
             [
              0.1111111111111111,
              "#46039f"
             ],
             [
              0.2222222222222222,
              "#7201a8"
             ],
             [
              0.3333333333333333,
              "#9c179e"
             ],
             [
              0.4444444444444444,
              "#bd3786"
             ],
             [
              0.5555555555555556,
              "#d8576b"
             ],
             [
              0.6666666666666666,
              "#ed7953"
             ],
             [
              0.7777777777777778,
              "#fb9f3a"
             ],
             [
              0.8888888888888888,
              "#fdca26"
             ],
             [
              1,
              "#f0f921"
             ]
            ],
            "type": "histogram2dcontour"
           }
          ],
          "mesh3d": [
           {
            "colorbar": {
             "outlinewidth": 0,
             "ticks": ""
            },
            "type": "mesh3d"
           }
          ],
          "parcoords": [
           {
            "line": {
             "colorbar": {
              "outlinewidth": 0,
              "ticks": ""
             }
            },
            "type": "parcoords"
           }
          ],
          "pie": [
           {
            "automargin": true,
            "type": "pie"
           }
          ],
          "scatter": [
           {
            "marker": {
             "colorbar": {
              "outlinewidth": 0,
              "ticks": ""
             }
            },
            "type": "scatter"
           }
          ],
          "scatter3d": [
           {
            "line": {
             "colorbar": {
              "outlinewidth": 0,
              "ticks": ""
             }
            },
            "marker": {
             "colorbar": {
              "outlinewidth": 0,
              "ticks": ""
             }
            },
            "type": "scatter3d"
           }
          ],
          "scattercarpet": [
           {
            "marker": {
             "colorbar": {
              "outlinewidth": 0,
              "ticks": ""
             }
            },
            "type": "scattercarpet"
           }
          ],
          "scattergeo": [
           {
            "marker": {
             "colorbar": {
              "outlinewidth": 0,
              "ticks": ""
             }
            },
            "type": "scattergeo"
           }
          ],
          "scattergl": [
           {
            "marker": {
             "colorbar": {
              "outlinewidth": 0,
              "ticks": ""
             }
            },
            "type": "scattergl"
           }
          ],
          "scattermapbox": [
           {
            "marker": {
             "colorbar": {
              "outlinewidth": 0,
              "ticks": ""
             }
            },
            "type": "scattermapbox"
           }
          ],
          "scatterpolar": [
           {
            "marker": {
             "colorbar": {
              "outlinewidth": 0,
              "ticks": ""
             }
            },
            "type": "scatterpolar"
           }
          ],
          "scatterpolargl": [
           {
            "marker": {
             "colorbar": {
              "outlinewidth": 0,
              "ticks": ""
             }
            },
            "type": "scatterpolargl"
           }
          ],
          "scatterternary": [
           {
            "marker": {
             "colorbar": {
              "outlinewidth": 0,
              "ticks": ""
             }
            },
            "type": "scatterternary"
           }
          ],
          "surface": [
           {
            "colorbar": {
             "outlinewidth": 0,
             "ticks": ""
            },
            "colorscale": [
             [
              0,
              "#0d0887"
             ],
             [
              0.1111111111111111,
              "#46039f"
             ],
             [
              0.2222222222222222,
              "#7201a8"
             ],
             [
              0.3333333333333333,
              "#9c179e"
             ],
             [
              0.4444444444444444,
              "#bd3786"
             ],
             [
              0.5555555555555556,
              "#d8576b"
             ],
             [
              0.6666666666666666,
              "#ed7953"
             ],
             [
              0.7777777777777778,
              "#fb9f3a"
             ],
             [
              0.8888888888888888,
              "#fdca26"
             ],
             [
              1,
              "#f0f921"
             ]
            ],
            "type": "surface"
           }
          ],
          "table": [
           {
            "cells": {
             "fill": {
              "color": "#EBF0F8"
             },
             "line": {
              "color": "white"
             }
            },
            "header": {
             "fill": {
              "color": "#C8D4E3"
             },
             "line": {
              "color": "white"
             }
            },
            "type": "table"
           }
          ]
         },
         "layout": {
          "annotationdefaults": {
           "arrowcolor": "#2a3f5f",
           "arrowhead": 0,
           "arrowwidth": 1
          },
          "coloraxis": {
           "colorbar": {
            "outlinewidth": 0,
            "ticks": ""
           }
          },
          "colorscale": {
           "diverging": [
            [
             0,
             "#8e0152"
            ],
            [
             0.1,
             "#c51b7d"
            ],
            [
             0.2,
             "#de77ae"
            ],
            [
             0.3,
             "#f1b6da"
            ],
            [
             0.4,
             "#fde0ef"
            ],
            [
             0.5,
             "#f7f7f7"
            ],
            [
             0.6,
             "#e6f5d0"
            ],
            [
             0.7,
             "#b8e186"
            ],
            [
             0.8,
             "#7fbc41"
            ],
            [
             0.9,
             "#4d9221"
            ],
            [
             1,
             "#276419"
            ]
           ],
           "sequential": [
            [
             0,
             "#0d0887"
            ],
            [
             0.1111111111111111,
             "#46039f"
            ],
            [
             0.2222222222222222,
             "#7201a8"
            ],
            [
             0.3333333333333333,
             "#9c179e"
            ],
            [
             0.4444444444444444,
             "#bd3786"
            ],
            [
             0.5555555555555556,
             "#d8576b"
            ],
            [
             0.6666666666666666,
             "#ed7953"
            ],
            [
             0.7777777777777778,
             "#fb9f3a"
            ],
            [
             0.8888888888888888,
             "#fdca26"
            ],
            [
             1,
             "#f0f921"
            ]
           ],
           "sequentialminus": [
            [
             0,
             "#0d0887"
            ],
            [
             0.1111111111111111,
             "#46039f"
            ],
            [
             0.2222222222222222,
             "#7201a8"
            ],
            [
             0.3333333333333333,
             "#9c179e"
            ],
            [
             0.4444444444444444,
             "#bd3786"
            ],
            [
             0.5555555555555556,
             "#d8576b"
            ],
            [
             0.6666666666666666,
             "#ed7953"
            ],
            [
             0.7777777777777778,
             "#fb9f3a"
            ],
            [
             0.8888888888888888,
             "#fdca26"
            ],
            [
             1,
             "#f0f921"
            ]
           ]
          },
          "colorway": [
           "#636efa",
           "#EF553B",
           "#00cc96",
           "#ab63fa",
           "#FFA15A",
           "#19d3f3",
           "#FF6692",
           "#B6E880",
           "#FF97FF",
           "#FECB52"
          ],
          "font": {
           "color": "#2a3f5f"
          },
          "geo": {
           "bgcolor": "white",
           "lakecolor": "white",
           "landcolor": "#E5ECF6",
           "showlakes": true,
           "showland": true,
           "subunitcolor": "white"
          },
          "hoverlabel": {
           "align": "left"
          },
          "hovermode": "closest",
          "mapbox": {
           "style": "light"
          },
          "paper_bgcolor": "white",
          "plot_bgcolor": "#E5ECF6",
          "polar": {
           "angularaxis": {
            "gridcolor": "white",
            "linecolor": "white",
            "ticks": ""
           },
           "bgcolor": "#E5ECF6",
           "radialaxis": {
            "gridcolor": "white",
            "linecolor": "white",
            "ticks": ""
           }
          },
          "scene": {
           "xaxis": {
            "backgroundcolor": "#E5ECF6",
            "gridcolor": "white",
            "gridwidth": 2,
            "linecolor": "white",
            "showbackground": true,
            "ticks": "",
            "zerolinecolor": "white"
           },
           "yaxis": {
            "backgroundcolor": "#E5ECF6",
            "gridcolor": "white",
            "gridwidth": 2,
            "linecolor": "white",
            "showbackground": true,
            "ticks": "",
            "zerolinecolor": "white"
           },
           "zaxis": {
            "backgroundcolor": "#E5ECF6",
            "gridcolor": "white",
            "gridwidth": 2,
            "linecolor": "white",
            "showbackground": true,
            "ticks": "",
            "zerolinecolor": "white"
           }
          },
          "shapedefaults": {
           "line": {
            "color": "#2a3f5f"
           }
          },
          "ternary": {
           "aaxis": {
            "gridcolor": "white",
            "linecolor": "white",
            "ticks": ""
           },
           "baxis": {
            "gridcolor": "white",
            "linecolor": "white",
            "ticks": ""
           },
           "bgcolor": "#E5ECF6",
           "caxis": {
            "gridcolor": "white",
            "linecolor": "white",
            "ticks": ""
           }
          },
          "title": {
           "x": 0.05
          },
          "xaxis": {
           "automargin": true,
           "gridcolor": "white",
           "linecolor": "white",
           "ticks": "",
           "title": {
            "standoff": 15
           },
           "zerolinecolor": "white",
           "zerolinewidth": 2
          },
          "yaxis": {
           "automargin": true,
           "gridcolor": "white",
           "linecolor": "white",
           "ticks": "",
           "title": {
            "standoff": 15
           },
           "zerolinecolor": "white",
           "zerolinewidth": 2
          }
         }
        },
        "title": {
         "text": "Convergence of Pure penalization using different starting points for mu",
         "x": 0.5
        },
        "xaxis": {
         "anchor": "y",
         "domain": [
          0,
          1
         ],
         "title": {
          "text": "iterations"
         }
        },
        "yaxis": {
         "anchor": "x",
         "domain": [
          0,
          1
         ],
         "title": {
          "text": "log10||x_k-x_min||"
         }
        }
       }
      },
      "text/html": [
       "<div>\n",
       "        \n",
       "        \n",
       "            <div id=\"cb74f20b-61c8-4c6c-8b1f-43e1991a6c76\" class=\"plotly-graph-div\" style=\"height:525px; width:100%;\"></div>\n",
       "            <script type=\"text/javascript\">\n",
       "                require([\"plotly\"], function(Plotly) {\n",
       "                    window.PLOTLYENV=window.PLOTLYENV || {};\n",
       "                    \n",
       "                if (document.getElementById(\"cb74f20b-61c8-4c6c-8b1f-43e1991a6c76\")) {\n",
       "                    Plotly.newPlot(\n",
       "                        'cb74f20b-61c8-4c6c-8b1f-43e1991a6c76',\n",
       "                        [{\"hovertemplate\": \"mu_start=0.5<br>iteration=%{x}<br>log10||x_k-x_min||=%{y}<extra></extra>\", \"legendgroup\": \"0.5\", \"line\": {\"color\": \"#636efa\", \"dash\": \"solid\"}, \"mode\": \"lines\", \"name\": \"0.5\", \"orientation\": \"v\", \"showlegend\": true, \"type\": \"scatter\", \"x\": [1, 3, 5, 10, 12, 15, 17, 20, 50, 100, 150, 200], \"xaxis\": \"x\", \"y\": [0.19896997542303294, 0.19897000359026065, 0.19897000502262263, 0.19897000437046863, 0.19897000431151773, 0.19897000431615286, 0.19897000433975529, 0.19897000433596992, 0.19897000433601883, 0.19897000433601883, 0.19897000433601883, 0.19897000433601883], \"yaxis\": \"y\"}, {\"hovertemplate\": \"mu_start=2.0<br>iteration=%{x}<br>log10||x_k-x_min||=%{y}<extra></extra>\", \"legendgroup\": \"2.0\", \"line\": {\"color\": \"#EF553B\", \"dash\": \"solid\"}, \"mode\": \"lines\", \"name\": \"2.0\", \"orientation\": \"v\", \"showlegend\": true, \"type\": \"scatter\", \"x\": [1, 3, 5, 10, 12, 15, 17, 20, 50, 100, 150, 200], \"xaxis\": \"x\", \"y\": [0.19896871644559241, 0.19897000434304132, 0.19897000455764965, 0.1989700043384661, 0.19897000433471104, 0.19897000433521714, 0.19897000433615375, 0.19897000433601725, 0.19897000433601883, 0.19897000433601883, 0.19897000433601883, 0.19897000433601883], \"yaxis\": \"y\"}, {\"hovertemplate\": \"mu_start=3.0<br>iteration=%{x}<br>log10||x_k-x_min||=%{y}<extra></extra>\", \"legendgroup\": \"3.0\", \"line\": {\"color\": \"#00cc96\", \"dash\": \"solid\"}, \"mode\": \"lines\", \"name\": \"3.0\", \"orientation\": \"v\", \"showlegend\": true, \"type\": \"scatter\", \"x\": [1, 3, 5, 10, 12, 15, 17, 20, 50, 100, 150, 200], \"xaxis\": \"x\", \"y\": [0.1989686815013254, 0.19897000511442056, 0.19897000433497694, 0.19897000432989842, 0.19897000433831233, 0.19897000433595596, 0.1989700043360292, 0.1989700043360204, 0.19897000433601883, 0.19897000433601883, 0.19897000433601883, 0.19897000433601883], \"yaxis\": \"y\"}, {\"hovertemplate\": \"mu_start=5.0<br>iteration=%{x}<br>log10||x_k-x_min||=%{y}<extra></extra>\", \"legendgroup\": \"5.0\", \"line\": {\"color\": \"#ab63fa\", \"dash\": \"solid\"}, \"mode\": \"lines\", \"name\": \"5.0\", \"orientation\": \"v\", \"showlegend\": true, \"type\": \"scatter\", \"x\": [1, 3, 5, 10, 12, 15, 17, 20, 50, 100, 150, 200], \"xaxis\": \"x\", \"y\": [-0.05847337442825994, -0.39509653970086617, -0.5758507459609125, -0.841479285436556, -0.9142482119565343, -1.0047095280155578, -1.055956539880837, -1.1229962525636057, -1.5085438644489477, -1.8053297486715825, -1.9798138841791932, -2.1042383851146105], \"yaxis\": \"y\"}, {\"hovertemplate\": \"mu_start=10.0<br>iteration=%{x}<br>log10||x_k-x_min||=%{y}<extra></extra>\", \"legendgroup\": \"10.0\", \"line\": {\"color\": \"#FFA15A\", \"dash\": \"solid\"}, \"mode\": \"lines\", \"name\": \"10.0\", \"orientation\": \"v\", \"showlegend\": true, \"type\": \"scatter\", \"x\": [1, 3, 5, 10, 12, 15, 17, 20, 50, 100, 150, 200], \"xaxis\": \"x\", \"y\": [-0.44806959610739855, -0.611130648440845, -0.7288428258607116, -0.9307415422003997, -0.9908927599311961, -1.0678737729919778, -1.1125182914179415, -1.171874773577827, -1.5293287417424113, -1.815718541130601, -1.9870917190198014, -2.109385995928637], \"yaxis\": \"y\"}, {\"hovertemplate\": \"mu_start=20.0<br>iteration=%{x}<br>log10||x_k-x_min||=%{y}<extra></extra>\", \"legendgroup\": \"20.0\", \"line\": {\"color\": \"#19d3f3\", \"dash\": \"solid\"}, \"mode\": \"lines\", \"name\": \"20.0\", \"orientation\": \"v\", \"showlegend\": true, \"type\": \"scatter\", \"x\": [1, 3, 5, 10, 12, 15, 17, 20, 50, 100, 150, 200], \"xaxis\": \"x\", \"y\": [-0.7774780495570938, -0.8608663999799562, -0.9307415422004027, -1.0678737729922365, -1.1125182914181513, -1.1718747735772232, -1.2073962866216956, -1.255735583737266, -1.5680977670978502, -1.8364169310055842, -2.0009524670855043, -2.1202527461041756], \"yaxis\": \"y\"}, {\"hovertemplate\": \"mu_start=50.0<br>iteration=%{x}<br>log10||x_k-x_min||=%{y}<extra></extra>\", \"legendgroup\": \"50.0\", \"line\": {\"color\": \"#FF6692\", \"dash\": \"solid\"}, \"mode\": \"lines\", \"name\": \"50.0\", \"orientation\": \"v\", \"showlegend\": true, \"type\": \"scatter\", \"x\": [1, 3, 5, 10, 12, 15, 17, 20, 50, 100, 150, 200], \"xaxis\": \"x\", \"y\": [-1.1885049776058925, -1.22411627359372, -1.255735583724498, -1.325963388412069, -1.3511644599508184, -1.3864005123819187, -1.408411696073736, -1.4393829022341778, -1.667278517367358, -1.892603058678626, -2.039994221934308, -2.150201570751374], \"yaxis\": \"y\"}, {\"hovertemplate\": \"mu_start=100.0<br>iteration=%{x}<br>log10||x_k-x_min||=%{y}<extra></extra>\", \"legendgroup\": \"100.0\", \"line\": {\"color\": \"#B6E880\", \"dash\": \"solid\"}, \"mode\": \"lines\", \"name\": \"100.0\", \"orientation\": \"v\", \"showlegend\": true, \"type\": \"scatter\", \"x\": [1, 3, 5, 10, 12, 15, 17, 20, 50, 100, 150, 200], \"xaxis\": \"x\", \"y\": [-0.930240071239018, -1.5127650808978619, -1.529328754612497, -1.568132506240982, -1.5827291378961932, -1.6035814565229958, -1.6172225358283443, -1.636304847563785, -1.7944151659006442, -1.9727049349009527, -2.0986731949031796, -2.1958631742693706], \"yaxis\": \"y\"}, {\"hovertemplate\": \"mu_start=200.0<br>iteration=%{x}<br>log10||x_k-x_min||=%{y}<extra></extra>\", \"legendgroup\": \"200.0\", \"line\": {\"color\": \"#FF97FF\", \"dash\": \"solid\"}, \"mode\": \"lines\", \"name\": \"200.0\", \"orientation\": \"v\", \"showlegend\": true, \"type\": \"scatter\", \"x\": [1, 3, 5, 10, 12, 15, 17, 20, 50, 100, 150, 200], \"xaxis\": \"x\", \"y\": [-1.7649220372390357, -1.8003526964760856, -1.8159249141851952, -1.835961988825912, -1.8443161298562543, -1.8559399081761878, -1.8634296676987685, -1.8744777229967362, -1.9727057497643166, -2.0987062132222003, -2.1959729306818327, -2.275022440797877], \"yaxis\": \"y\"}, {\"hovertemplate\": \"mu_start=500.0<br>iteration=%{x}<br>log10||x_k-x_min||=%{y}<extra></extra>\", \"legendgroup\": \"500.0\", \"line\": {\"color\": \"#FECB52\", \"dash\": \"solid\"}, \"mode\": \"lines\", \"name\": \"500.0\", \"orientation\": \"v\", \"showlegend\": true, \"type\": \"scatter\", \"x\": [1, 3, 5, 10, 12, 15, 17, 20, 50, 100, 150, 200], \"xaxis\": \"x\", \"y\": [-2.071763728961835, -2.1949429371293077, -2.2033292418095054, -2.212763115403047, -2.216191970359853, -2.221355514700946, -2.2247363500190445, -2.2296518747455236, -2.2750227603530795, -2.3427846626245366, -2.401203419561592, -2.4524392874895438], \"yaxis\": \"y\"}, {\"hovertemplate\": \"mu_start=1000.0<br>iteration=%{x}<br>log10||x_k-x_min||=%{y}<extra></extra>\", \"legendgroup\": \"1000.0\", \"line\": {\"color\": \"#636efa\", \"dash\": \"solid\"}, \"mode\": \"lines\", \"name\": \"1000.0\", \"orientation\": \"v\", \"showlegend\": true, \"type\": \"scatter\", \"x\": [1, 3, 5, 10, 12, 15, 17, 20, 50, 100, 150, 200], \"xaxis\": \"x\", \"y\": [-2.3715468598166543, -2.4810589410861588, -2.492581752896524, -2.5051692012846525, -2.5070934701175873, -2.5097555405313674, -2.5113325956780987, -2.5136622028713114, -2.538179011165711, -2.5774688791940883, -2.6122420199142082, -2.6444321534520303], \"yaxis\": \"y\"}, {\"hovertemplate\": \"mu_start=5000.0<br>iteration=%{x}<br>log10||x_k-x_min||=%{y}<extra></extra>\", \"legendgroup\": \"5000.0\", \"line\": {\"color\": \"#EF553B\", \"dash\": \"solid\"}, \"mode\": \"lines\", \"name\": \"5000.0\", \"orientation\": \"v\", \"showlegend\": true, \"type\": \"scatter\", \"x\": [1, 3, 5, 10, 12, 15, 17, 20, 50, 100, 150, 200], \"xaxis\": \"x\", \"y\": [-0.9830325370405743, -2.1400404297108953, -2.4561266172986334, -2.7116851988096085, -2.767135400302027, -3.0277983511606856, -3.0655579425230477, -3.0735890404233324, -3.154144159764578, -3.180456063816981, -3.195493360002062, -3.2075022691939634], \"yaxis\": \"y\"}, {\"hovertemplate\": \"mu_start=100000.0<br>iteration=%{x}<br>log10||x_k-x_min||=%{y}<extra></extra>\", \"legendgroup\": \"100000.0\", \"line\": {\"color\": \"#00cc96\", \"dash\": \"solid\"}, \"mode\": \"lines\", \"name\": \"100000.0\", \"orientation\": \"v\", \"showlegend\": true, \"type\": \"scatter\", \"x\": [1, 3, 5, 10, 12, 15, 17, 20, 50, 100, 150, 200], \"xaxis\": \"x\", \"y\": [0.29102953473777415, 0.043725432966195035, -0.11018229786985502, -0.4162344762442323, -0.5306426593619257, -0.700838961034413, -0.8142642871218996, -0.9848837908429302, -1.9893691104391371, -2.393292551646997, -2.5901018585000606, -2.7196663390702858], \"yaxis\": \"y\"}],\n",
       "                        {\"legend\": {\"title\": {\"text\": \"mu_start\"}, \"tracegroupgap\": 0}, \"margin\": {\"t\": 60}, \"template\": {\"data\": {\"bar\": [{\"error_x\": {\"color\": \"#2a3f5f\"}, \"error_y\": {\"color\": \"#2a3f5f\"}, \"marker\": {\"line\": {\"color\": \"#E5ECF6\", \"width\": 0.5}}, \"type\": \"bar\"}], \"barpolar\": [{\"marker\": {\"line\": {\"color\": \"#E5ECF6\", \"width\": 0.5}}, \"type\": \"barpolar\"}], \"carpet\": [{\"aaxis\": {\"endlinecolor\": \"#2a3f5f\", \"gridcolor\": \"white\", \"linecolor\": \"white\", \"minorgridcolor\": \"white\", \"startlinecolor\": \"#2a3f5f\"}, \"baxis\": {\"endlinecolor\": \"#2a3f5f\", \"gridcolor\": \"white\", \"linecolor\": \"white\", \"minorgridcolor\": \"white\", \"startlinecolor\": \"#2a3f5f\"}, \"type\": \"carpet\"}], \"choropleth\": [{\"colorbar\": {\"outlinewidth\": 0, \"ticks\": \"\"}, \"type\": \"choropleth\"}], \"contour\": [{\"colorbar\": {\"outlinewidth\": 0, \"ticks\": \"\"}, \"colorscale\": [[0.0, \"#0d0887\"], [0.1111111111111111, \"#46039f\"], [0.2222222222222222, \"#7201a8\"], [0.3333333333333333, \"#9c179e\"], [0.4444444444444444, \"#bd3786\"], [0.5555555555555556, \"#d8576b\"], [0.6666666666666666, \"#ed7953\"], [0.7777777777777778, \"#fb9f3a\"], [0.8888888888888888, \"#fdca26\"], [1.0, \"#f0f921\"]], \"type\": \"contour\"}], \"contourcarpet\": [{\"colorbar\": {\"outlinewidth\": 0, \"ticks\": \"\"}, \"type\": \"contourcarpet\"}], \"heatmap\": [{\"colorbar\": {\"outlinewidth\": 0, \"ticks\": \"\"}, \"colorscale\": [[0.0, \"#0d0887\"], [0.1111111111111111, \"#46039f\"], [0.2222222222222222, \"#7201a8\"], [0.3333333333333333, \"#9c179e\"], [0.4444444444444444, \"#bd3786\"], [0.5555555555555556, \"#d8576b\"], [0.6666666666666666, \"#ed7953\"], [0.7777777777777778, \"#fb9f3a\"], [0.8888888888888888, \"#fdca26\"], [1.0, \"#f0f921\"]], \"type\": \"heatmap\"}], \"heatmapgl\": [{\"colorbar\": {\"outlinewidth\": 0, \"ticks\": \"\"}, \"colorscale\": [[0.0, \"#0d0887\"], [0.1111111111111111, \"#46039f\"], [0.2222222222222222, \"#7201a8\"], [0.3333333333333333, \"#9c179e\"], [0.4444444444444444, \"#bd3786\"], [0.5555555555555556, \"#d8576b\"], [0.6666666666666666, \"#ed7953\"], [0.7777777777777778, \"#fb9f3a\"], [0.8888888888888888, \"#fdca26\"], [1.0, \"#f0f921\"]], \"type\": \"heatmapgl\"}], \"histogram\": [{\"marker\": {\"colorbar\": {\"outlinewidth\": 0, \"ticks\": \"\"}}, \"type\": \"histogram\"}], \"histogram2d\": [{\"colorbar\": {\"outlinewidth\": 0, \"ticks\": \"\"}, \"colorscale\": [[0.0, \"#0d0887\"], [0.1111111111111111, \"#46039f\"], [0.2222222222222222, \"#7201a8\"], [0.3333333333333333, \"#9c179e\"], [0.4444444444444444, \"#bd3786\"], [0.5555555555555556, \"#d8576b\"], [0.6666666666666666, \"#ed7953\"], [0.7777777777777778, \"#fb9f3a\"], [0.8888888888888888, \"#fdca26\"], [1.0, \"#f0f921\"]], \"type\": \"histogram2d\"}], \"histogram2dcontour\": [{\"colorbar\": {\"outlinewidth\": 0, \"ticks\": \"\"}, \"colorscale\": [[0.0, \"#0d0887\"], [0.1111111111111111, \"#46039f\"], [0.2222222222222222, \"#7201a8\"], [0.3333333333333333, \"#9c179e\"], [0.4444444444444444, \"#bd3786\"], [0.5555555555555556, \"#d8576b\"], [0.6666666666666666, \"#ed7953\"], [0.7777777777777778, \"#fb9f3a\"], [0.8888888888888888, \"#fdca26\"], [1.0, \"#f0f921\"]], \"type\": \"histogram2dcontour\"}], \"mesh3d\": [{\"colorbar\": {\"outlinewidth\": 0, \"ticks\": \"\"}, \"type\": \"mesh3d\"}], \"parcoords\": [{\"line\": {\"colorbar\": {\"outlinewidth\": 0, \"ticks\": \"\"}}, \"type\": \"parcoords\"}], \"pie\": [{\"automargin\": true, \"type\": \"pie\"}], \"scatter\": [{\"marker\": {\"colorbar\": {\"outlinewidth\": 0, \"ticks\": \"\"}}, \"type\": \"scatter\"}], \"scatter3d\": [{\"line\": {\"colorbar\": {\"outlinewidth\": 0, \"ticks\": \"\"}}, \"marker\": {\"colorbar\": {\"outlinewidth\": 0, \"ticks\": \"\"}}, \"type\": \"scatter3d\"}], \"scattercarpet\": [{\"marker\": {\"colorbar\": {\"outlinewidth\": 0, \"ticks\": \"\"}}, \"type\": \"scattercarpet\"}], \"scattergeo\": [{\"marker\": {\"colorbar\": {\"outlinewidth\": 0, \"ticks\": \"\"}}, \"type\": \"scattergeo\"}], \"scattergl\": [{\"marker\": {\"colorbar\": {\"outlinewidth\": 0, \"ticks\": \"\"}}, \"type\": \"scattergl\"}], \"scattermapbox\": [{\"marker\": {\"colorbar\": {\"outlinewidth\": 0, \"ticks\": \"\"}}, \"type\": \"scattermapbox\"}], \"scatterpolar\": [{\"marker\": {\"colorbar\": {\"outlinewidth\": 0, \"ticks\": \"\"}}, \"type\": \"scatterpolar\"}], \"scatterpolargl\": [{\"marker\": {\"colorbar\": {\"outlinewidth\": 0, \"ticks\": \"\"}}, \"type\": \"scatterpolargl\"}], \"scatterternary\": [{\"marker\": {\"colorbar\": {\"outlinewidth\": 0, \"ticks\": \"\"}}, \"type\": \"scatterternary\"}], \"surface\": [{\"colorbar\": {\"outlinewidth\": 0, \"ticks\": \"\"}, \"colorscale\": [[0.0, \"#0d0887\"], [0.1111111111111111, \"#46039f\"], [0.2222222222222222, \"#7201a8\"], [0.3333333333333333, \"#9c179e\"], [0.4444444444444444, \"#bd3786\"], [0.5555555555555556, \"#d8576b\"], [0.6666666666666666, \"#ed7953\"], [0.7777777777777778, \"#fb9f3a\"], [0.8888888888888888, \"#fdca26\"], [1.0, \"#f0f921\"]], \"type\": \"surface\"}], \"table\": [{\"cells\": {\"fill\": {\"color\": \"#EBF0F8\"}, \"line\": {\"color\": \"white\"}}, \"header\": {\"fill\": {\"color\": \"#C8D4E3\"}, \"line\": {\"color\": \"white\"}}, \"type\": \"table\"}]}, \"layout\": {\"annotationdefaults\": {\"arrowcolor\": \"#2a3f5f\", \"arrowhead\": 0, \"arrowwidth\": 1}, \"coloraxis\": {\"colorbar\": {\"outlinewidth\": 0, \"ticks\": \"\"}}, \"colorscale\": {\"diverging\": [[0, \"#8e0152\"], [0.1, \"#c51b7d\"], [0.2, \"#de77ae\"], [0.3, \"#f1b6da\"], [0.4, \"#fde0ef\"], [0.5, \"#f7f7f7\"], [0.6, \"#e6f5d0\"], [0.7, \"#b8e186\"], [0.8, \"#7fbc41\"], [0.9, \"#4d9221\"], [1, \"#276419\"]], \"sequential\": [[0.0, \"#0d0887\"], [0.1111111111111111, \"#46039f\"], [0.2222222222222222, \"#7201a8\"], [0.3333333333333333, \"#9c179e\"], [0.4444444444444444, \"#bd3786\"], [0.5555555555555556, \"#d8576b\"], [0.6666666666666666, \"#ed7953\"], [0.7777777777777778, \"#fb9f3a\"], [0.8888888888888888, \"#fdca26\"], [1.0, \"#f0f921\"]], \"sequentialminus\": [[0.0, \"#0d0887\"], [0.1111111111111111, \"#46039f\"], [0.2222222222222222, \"#7201a8\"], [0.3333333333333333, \"#9c179e\"], [0.4444444444444444, \"#bd3786\"], [0.5555555555555556, \"#d8576b\"], [0.6666666666666666, \"#ed7953\"], [0.7777777777777778, \"#fb9f3a\"], [0.8888888888888888, \"#fdca26\"], [1.0, \"#f0f921\"]]}, \"colorway\": [\"#636efa\", \"#EF553B\", \"#00cc96\", \"#ab63fa\", \"#FFA15A\", \"#19d3f3\", \"#FF6692\", \"#B6E880\", \"#FF97FF\", \"#FECB52\"], \"font\": {\"color\": \"#2a3f5f\"}, \"geo\": {\"bgcolor\": \"white\", \"lakecolor\": \"white\", \"landcolor\": \"#E5ECF6\", \"showlakes\": true, \"showland\": true, \"subunitcolor\": \"white\"}, \"hoverlabel\": {\"align\": \"left\"}, \"hovermode\": \"closest\", \"mapbox\": {\"style\": \"light\"}, \"paper_bgcolor\": \"white\", \"plot_bgcolor\": \"#E5ECF6\", \"polar\": {\"angularaxis\": {\"gridcolor\": \"white\", \"linecolor\": \"white\", \"ticks\": \"\"}, \"bgcolor\": \"#E5ECF6\", \"radialaxis\": {\"gridcolor\": \"white\", \"linecolor\": \"white\", \"ticks\": \"\"}}, \"scene\": {\"xaxis\": {\"backgroundcolor\": \"#E5ECF6\", \"gridcolor\": \"white\", \"gridwidth\": 2, \"linecolor\": \"white\", \"showbackground\": true, \"ticks\": \"\", \"zerolinecolor\": \"white\"}, \"yaxis\": {\"backgroundcolor\": \"#E5ECF6\", \"gridcolor\": \"white\", \"gridwidth\": 2, \"linecolor\": \"white\", \"showbackground\": true, \"ticks\": \"\", \"zerolinecolor\": \"white\"}, \"zaxis\": {\"backgroundcolor\": \"#E5ECF6\", \"gridcolor\": \"white\", \"gridwidth\": 2, \"linecolor\": \"white\", \"showbackground\": true, \"ticks\": \"\", \"zerolinecolor\": \"white\"}}, \"shapedefaults\": {\"line\": {\"color\": \"#2a3f5f\"}}, \"ternary\": {\"aaxis\": {\"gridcolor\": \"white\", \"linecolor\": \"white\", \"ticks\": \"\"}, \"baxis\": {\"gridcolor\": \"white\", \"linecolor\": \"white\", \"ticks\": \"\"}, \"bgcolor\": \"#E5ECF6\", \"caxis\": {\"gridcolor\": \"white\", \"linecolor\": \"white\", \"ticks\": \"\"}}, \"title\": {\"x\": 0.05}, \"xaxis\": {\"automargin\": true, \"gridcolor\": \"white\", \"linecolor\": \"white\", \"ticks\": \"\", \"title\": {\"standoff\": 15}, \"zerolinecolor\": \"white\", \"zerolinewidth\": 2}, \"yaxis\": {\"automargin\": true, \"gridcolor\": \"white\", \"linecolor\": \"white\", \"ticks\": \"\", \"title\": {\"standoff\": 15}, \"zerolinecolor\": \"white\", \"zerolinewidth\": 2}}}, \"title\": {\"text\": \"Convergence of Pure penalization using different starting points for mu\", \"x\": 0.5}, \"xaxis\": {\"anchor\": \"y\", \"domain\": [0.0, 1.0], \"title\": {\"text\": \"iterations\"}}, \"yaxis\": {\"anchor\": \"x\", \"domain\": [0.0, 1.0], \"title\": {\"text\": \"log10||x_k-x_min||\"}}},\n",
       "                        {\"responsive\": true}\n",
       "                    ).then(function(){\n",
       "                            \n",
       "var gd = document.getElementById('cb74f20b-61c8-4c6c-8b1f-43e1991a6c76');\n",
       "var x = new MutationObserver(function (mutations, observer) {{\n",
       "        var display = window.getComputedStyle(gd).display;\n",
       "        if (!display || display === 'none') {{\n",
       "            console.log([gd, 'removed!']);\n",
       "            Plotly.purge(gd);\n",
       "            observer.disconnect();\n",
       "        }}\n",
       "}});\n",
       "\n",
       "// Listen for the removal of the full notebook cells\n",
       "var notebookContainer = gd.closest('#notebook-container');\n",
       "if (notebookContainer) {{\n",
       "    x.observe(notebookContainer, {childList: true});\n",
       "}}\n",
       "\n",
       "// Listen for the clearing of the current output cell\n",
       "var outputEl = gd.closest('.output');\n",
       "if (outputEl) {{\n",
       "    x.observe(outputEl, {childList: true});\n",
       "}}\n",
       "\n",
       "                        })\n",
       "                };\n",
       "                });\n",
       "            </script>\n",
       "        </div>"
      ]
     },
     "metadata": {},
     "output_type": "display_data"
    }
   ],
   "source": [
    "layout = dict(title_text='Convergence of Pure penalization using different starting points for mu', title_x=0.5, xaxis_title='iterations', yaxis_title='log10||x_k-x_min||')\n",
    "fig = px.line(data, x='iteration',y='log10||x_k-x_min||', color='mu_start')\n",
    "fig.update_layout(layout)\n",
    "fig.write_image('media/experiment_1_initial_mu_changing_pure_method_exercise1.png')\n",
    "fig.show()"
   ]
  },
  {
   "cell_type": "code",
   "execution_count": 277,
   "metadata": {
    "ExecuteTime": {
     "end_time": "2020-06-03T22:40:28.872766Z",
     "start_time": "2020-06-03T22:40:28.515342Z"
    }
   },
   "outputs": [
    {
     "data": {
      "application/vnd.plotly.v1+json": {
       "config": {
        "plotlyServerURL": "https://plot.ly"
       },
       "data": [
        {
         "hovertemplate": "mu_start=0.5<br>iteration=%{x}<br>mu*h(x)=%{y}<extra></extra>",
         "legendgroup": "0.5",
         "line": {
          "color": "#636efa",
          "dash": "solid"
         },
         "mode": "lines",
         "name": "0.5",
         "orientation": "v",
         "showlegend": true,
         "type": "scatter",
         "x": [
          1,
          3,
          5,
          10,
          12,
          15,
          17,
          20,
          50,
          100,
          150,
          200
         ],
         "xaxis": "x",
         "y": [
          -2.499999999999998,
          -6.5,
          -10.5,
          -20.5,
          -24.5,
          -30.5,
          -34.5,
          -40.5,
          -100.5,
          -200.5,
          -300.5,
          -400.5
         ],
         "yaxis": "y"
        },
        {
         "hovertemplate": "mu_start=2.0<br>iteration=%{x}<br>mu*h(x)=%{y}<extra></extra>",
         "legendgroup": "2.0",
         "line": {
          "color": "#EF553B",
          "dash": "solid"
         },
         "mode": "lines",
         "name": "2.0",
         "orientation": "v",
         "showlegend": true,
         "type": "scatter",
         "x": [
          1,
          3,
          5,
          10,
          12,
          15,
          17,
          20,
          50,
          100,
          150,
          200
         ],
         "xaxis": "x",
         "y": [
          -3.999999999951118,
          -8,
          -12,
          -22,
          -26,
          -32,
          -36,
          -42,
          -102,
          -202,
          -302,
          -402
         ],
         "yaxis": "y"
        },
        {
         "hovertemplate": "mu_start=3.0<br>iteration=%{x}<br>mu*h(x)=%{y}<extra></extra>",
         "legendgroup": "3.0",
         "line": {
          "color": "#00cc96",
          "dash": "solid"
         },
         "mode": "lines",
         "name": "3.0",
         "orientation": "v",
         "showlegend": true,
         "type": "scatter",
         "x": [
          1,
          3,
          5,
          10,
          12,
          15,
          17,
          20,
          50,
          100,
          150,
          200
         ],
         "xaxis": "x",
         "y": [
          -4.999999999945642,
          -9,
          -13,
          -23,
          -27,
          -33,
          -37,
          -43,
          -103,
          -203,
          -303,
          -403
         ],
         "yaxis": "y"
        },
        {
         "hovertemplate": "mu_start=5.0<br>iteration=%{x}<br>mu*h(x)=%{y}<extra></extra>",
         "legendgroup": "5.0",
         "line": {
          "color": "#ab63fa",
          "dash": "solid"
         },
         "mode": "lines",
         "name": "5.0",
         "orientation": "v",
         "showlegend": true,
         "type": "scatter",
         "x": [
          1,
          3,
          5,
          10,
          12,
          15,
          17,
          20,
          50,
          100,
          150,
          200
         ],
         "xaxis": "x",
         "y": [
          -5.599993150226618,
          -4.888888863454819,
          -4.615384482299353,
          -4.3478263791950775,
          -4.296414604976661,
          -4.242427875107957,
          -4.216214196137247,
          -4.186045324989232,
          -4.077661217963033,
          -4.039409090711511,
          -4.026443070922627,
          -4.019855783890033
         ],
         "yaxis": "y"
        },
        {
         "hovertemplate": "mu_start=10.0<br>iteration=%{x}<br>mu*h(x)=%{y}<extra></extra>",
         "legendgroup": "10.0",
         "line": {
          "color": "#FFA15A",
          "dash": "solid"
         },
         "mode": "lines",
         "name": "10.0",
         "orientation": "v",
         "showlegend": true,
         "type": "scatter",
         "x": [
          1,
          3,
          5,
          10,
          12,
          15,
          17,
          20,
          50,
          100,
          150,
          200
         ],
         "xaxis": "x",
         "y": [
          -4.800000352478864,
          -4.571427384548128,
          -4.444444961034404,
          -4.285718921840277,
          -4.249996426938629,
          -4.210528489821526,
          -4.19047512584735,
          -4.166629793565047,
          -4.074083902240504,
          -4.03838591510517,
          -4.025963086330492,
          -4.019637682813622
         ],
         "yaxis": "y"
        },
        {
         "hovertemplate": "mu_start=20.0<br>iteration=%{x}<br>mu*h(x)=%{y}<extra></extra>",
         "legendgroup": "20.0",
         "line": {
          "color": "#19d3f3",
          "dash": "solid"
         },
         "mode": "lines",
         "name": "20.0",
         "orientation": "v",
         "showlegend": true,
         "type": "scatter",
         "x": [
          1,
          3,
          5,
          10,
          12,
          15,
          17,
          20,
          50,
          100,
          150,
          200
         ],
         "xaxis": "x",
         "y": [
          -4.400000785864631,
          -4.333331360384267,
          -4.28571892184026,
          -4.210528489819905,
          -4.190475125843613,
          -4.1666297935763925,
          -4.153840412594363,
          -4.137933905682218,
          -4.067765556005214,
          -4.036704380265457,
          -4.025139552671462,
          -4.0191183441692075
         ],
         "yaxis": "y"
        },
        {
         "hovertemplate": "mu_start=50.0<br>iteration=%{x}<br>mu*h(x)=%{y}<extra></extra>",
         "legendgroup": "50.0",
         "line": {
          "color": "#FF6692",
          "dash": "solid"
         },
         "mode": "lines",
         "name": "50.0",
         "orientation": "v",
         "showlegend": true,
         "type": "scatter",
         "x": [
          1,
          3,
          5,
          10,
          12,
          15,
          17,
          20,
          50,
          100,
          150,
          200
         ],
         "xaxis": "x",
         "y": [
          -4.1617881453663825,
          -4.148144979073933,
          -4.1379339058396125,
          -4.117633131221669,
          -4.111104189421837,
          -4.102576193547067,
          -4.097556065120656,
          -4.090962229725934,
          -4.054045945571094,
          -4.032237643728232,
          -4.023048392820944,
          -4.01787529588446
         ],
         "yaxis": "y"
        },
        {
         "hovertemplate": "mu_start=100.0<br>iteration=%{x}<br>mu*h(x)=%{y}<extra></extra>",
         "legendgroup": "100.0",
         "line": {
          "color": "#B6E880",
          "dash": "solid"
         },
         "mode": "lines",
         "name": "100.0",
         "orientation": "v",
         "showlegend": true,
         "type": "scatter",
         "x": [
          1,
          3,
          5,
          10,
          12,
          15,
          17,
          20,
          50,
          100,
          150,
          200
         ],
         "xaxis": "x",
         "y": [
          -4.610049471478896,
          -4.076902642192509,
          -4.07408383295508,
          -4.067806929196727,
          -4.065587092813299,
          -4.06239787765235,
          -4.060592832796316,
          -4.057780601590619,
          -4.040389681958789,
          -4.026851894986983,
          -4.020080674324467,
          -4.016124352586525
         ],
         "yaxis": "y"
        },
        {
         "hovertemplate": "mu_start=200.0<br>iteration=%{x}<br>mu*h(x)=%{y}<extra></extra>",
         "legendgroup": "200.0",
         "line": {
          "color": "#FF97FF",
          "dash": "solid"
         },
         "mode": "lines",
         "name": "200.0",
         "orientation": "v",
         "showlegend": true,
         "type": "scatter",
         "x": [
          1,
          3,
          5,
          10,
          12,
          15,
          17,
          20,
          50,
          100,
          150,
          200
         ],
         "xaxis": "x",
         "y": [
          -4.050161652532078,
          -4.04133438488144,
          -4.038450982712449,
          -4.036551352235911,
          -4.036017590957549,
          -4.035109306546085,
          -4.034527875773963,
          -4.033540650869796,
          -4.026838994588333,
          -4.020112195053871,
          -4.016018460006599,
          -4.013273949254326
         ],
         "yaxis": "y"
        },
        {
         "hovertemplate": "mu_start=500.0<br>iteration=%{x}<br>mu*h(x)=%{y}<extra></extra>",
         "legendgroup": "500.0",
         "line": {
          "color": "#FECB52",
          "dash": "solid"
         },
         "mode": "lines",
         "name": "500.0",
         "orientation": "v",
         "showlegend": true,
         "type": "scatter",
         "x": [
          1,
          3,
          5,
          10,
          12,
          15,
          17,
          20,
          50,
          100,
          150,
          200
         ],
         "xaxis": "x",
         "y": [
          -4.031152360822286,
          -4.01667392899703,
          -4.015542848068278,
          -4.015358504621753,
          -4.015253302906663,
          -4.01519914596295,
          -4.0150739912746305,
          -4.014902904700044,
          -4.0132741085790125,
          -4.011498952423375,
          -4.010034252166594,
          -4.008938763996916
         ],
         "yaxis": "y"
        },
        {
         "hovertemplate": "mu_start=1000.0<br>iteration=%{x}<br>mu*h(x)=%{y}<extra></extra>",
         "legendgroup": "1000.0",
         "line": {
          "color": "#636efa",
          "dash": "solid"
         },
         "mode": "lines",
         "name": "1000.0",
         "orientation": "v",
         "showlegend": true,
         "type": "scatter",
         "x": [
          1,
          3,
          5,
          10,
          12,
          15,
          17,
          20,
          50,
          100,
          150,
          200
         ],
         "xaxis": "x",
         "y": [
          -4.0156652516689215,
          -4.006734146806371,
          -4.007305524584748,
          -4.007718030982423,
          -4.007710951971035,
          -4.007891291825112,
          -4.007633767147773,
          -4.007590133379306,
          -4.0071617907248225,
          -4.006716521431519,
          -4.006202589762353,
          -4.005761265240282
         ],
         "yaxis": "y"
        },
        {
         "hovertemplate": "mu_start=5000.0<br>iteration=%{x}<br>mu*h(x)=%{y}<extra></extra>",
         "legendgroup": "5000.0",
         "line": {
          "color": "#EF553B",
          "dash": "solid"
         },
         "mode": "lines",
         "name": "5000.0",
         "orientation": "v",
         "showlegend": true,
         "type": "scatter",
         "x": [
          1,
          3,
          5,
          10,
          12,
          15,
          17,
          20,
          50,
          100,
          150,
          200
         ],
         "xaxis": "x",
         "y": [
          -4.571627437754405,
          -4.036408143157878,
          -4.017275846464288,
          -3.994061960209343,
          -3.9952676043833897,
          -3.9994914367515024,
          -4.003166910705585,
          -4.003132436574832,
          -4.000928274469684,
          -4.001140775600653,
          -4.00179403846116,
          -4.001763778307632
         ],
         "yaxis": "y"
        },
        {
         "hovertemplate": "mu_start=100000.0<br>iteration=%{x}<br>mu*h(x)=%{y}<extra></extra>",
         "legendgroup": "100000.0",
         "line": {
          "color": "#00cc96",
          "dash": "solid"
         },
         "mode": "lines",
         "name": "100000.0",
         "orientation": "v",
         "showlegend": true,
         "type": "scatter",
         "x": [
          1,
          3,
          5,
          10,
          12,
          15,
          17,
          20,
          50,
          100,
          150,
          200
         ],
         "xaxis": "x",
         "y": [
          -10.795989848193345,
          -3.5330066807953058,
          -8.526203347597294,
          -4.92674901872153,
          -4.652024341221098,
          -4.431730385644751,
          -4.348598698325205,
          -4.272314692498691,
          -4.051255562717371,
          -3.980776074005554,
          -4.0120198117054695,
          -3.991618602292313
         ],
         "yaxis": "y"
        }
       ],
       "layout": {
        "legend": {
         "title": {
          "text": "mu_start"
         },
         "tracegroupgap": 0
        },
        "margin": {
         "t": 60
        },
        "template": {
         "data": {
          "bar": [
           {
            "error_x": {
             "color": "#2a3f5f"
            },
            "error_y": {
             "color": "#2a3f5f"
            },
            "marker": {
             "line": {
              "color": "#E5ECF6",
              "width": 0.5
             }
            },
            "type": "bar"
           }
          ],
          "barpolar": [
           {
            "marker": {
             "line": {
              "color": "#E5ECF6",
              "width": 0.5
             }
            },
            "type": "barpolar"
           }
          ],
          "carpet": [
           {
            "aaxis": {
             "endlinecolor": "#2a3f5f",
             "gridcolor": "white",
             "linecolor": "white",
             "minorgridcolor": "white",
             "startlinecolor": "#2a3f5f"
            },
            "baxis": {
             "endlinecolor": "#2a3f5f",
             "gridcolor": "white",
             "linecolor": "white",
             "minorgridcolor": "white",
             "startlinecolor": "#2a3f5f"
            },
            "type": "carpet"
           }
          ],
          "choropleth": [
           {
            "colorbar": {
             "outlinewidth": 0,
             "ticks": ""
            },
            "type": "choropleth"
           }
          ],
          "contour": [
           {
            "colorbar": {
             "outlinewidth": 0,
             "ticks": ""
            },
            "colorscale": [
             [
              0,
              "#0d0887"
             ],
             [
              0.1111111111111111,
              "#46039f"
             ],
             [
              0.2222222222222222,
              "#7201a8"
             ],
             [
              0.3333333333333333,
              "#9c179e"
             ],
             [
              0.4444444444444444,
              "#bd3786"
             ],
             [
              0.5555555555555556,
              "#d8576b"
             ],
             [
              0.6666666666666666,
              "#ed7953"
             ],
             [
              0.7777777777777778,
              "#fb9f3a"
             ],
             [
              0.8888888888888888,
              "#fdca26"
             ],
             [
              1,
              "#f0f921"
             ]
            ],
            "type": "contour"
           }
          ],
          "contourcarpet": [
           {
            "colorbar": {
             "outlinewidth": 0,
             "ticks": ""
            },
            "type": "contourcarpet"
           }
          ],
          "heatmap": [
           {
            "colorbar": {
             "outlinewidth": 0,
             "ticks": ""
            },
            "colorscale": [
             [
              0,
              "#0d0887"
             ],
             [
              0.1111111111111111,
              "#46039f"
             ],
             [
              0.2222222222222222,
              "#7201a8"
             ],
             [
              0.3333333333333333,
              "#9c179e"
             ],
             [
              0.4444444444444444,
              "#bd3786"
             ],
             [
              0.5555555555555556,
              "#d8576b"
             ],
             [
              0.6666666666666666,
              "#ed7953"
             ],
             [
              0.7777777777777778,
              "#fb9f3a"
             ],
             [
              0.8888888888888888,
              "#fdca26"
             ],
             [
              1,
              "#f0f921"
             ]
            ],
            "type": "heatmap"
           }
          ],
          "heatmapgl": [
           {
            "colorbar": {
             "outlinewidth": 0,
             "ticks": ""
            },
            "colorscale": [
             [
              0,
              "#0d0887"
             ],
             [
              0.1111111111111111,
              "#46039f"
             ],
             [
              0.2222222222222222,
              "#7201a8"
             ],
             [
              0.3333333333333333,
              "#9c179e"
             ],
             [
              0.4444444444444444,
              "#bd3786"
             ],
             [
              0.5555555555555556,
              "#d8576b"
             ],
             [
              0.6666666666666666,
              "#ed7953"
             ],
             [
              0.7777777777777778,
              "#fb9f3a"
             ],
             [
              0.8888888888888888,
              "#fdca26"
             ],
             [
              1,
              "#f0f921"
             ]
            ],
            "type": "heatmapgl"
           }
          ],
          "histogram": [
           {
            "marker": {
             "colorbar": {
              "outlinewidth": 0,
              "ticks": ""
             }
            },
            "type": "histogram"
           }
          ],
          "histogram2d": [
           {
            "colorbar": {
             "outlinewidth": 0,
             "ticks": ""
            },
            "colorscale": [
             [
              0,
              "#0d0887"
             ],
             [
              0.1111111111111111,
              "#46039f"
             ],
             [
              0.2222222222222222,
              "#7201a8"
             ],
             [
              0.3333333333333333,
              "#9c179e"
             ],
             [
              0.4444444444444444,
              "#bd3786"
             ],
             [
              0.5555555555555556,
              "#d8576b"
             ],
             [
              0.6666666666666666,
              "#ed7953"
             ],
             [
              0.7777777777777778,
              "#fb9f3a"
             ],
             [
              0.8888888888888888,
              "#fdca26"
             ],
             [
              1,
              "#f0f921"
             ]
            ],
            "type": "histogram2d"
           }
          ],
          "histogram2dcontour": [
           {
            "colorbar": {
             "outlinewidth": 0,
             "ticks": ""
            },
            "colorscale": [
             [
              0,
              "#0d0887"
             ],
             [
              0.1111111111111111,
              "#46039f"
             ],
             [
              0.2222222222222222,
              "#7201a8"
             ],
             [
              0.3333333333333333,
              "#9c179e"
             ],
             [
              0.4444444444444444,
              "#bd3786"
             ],
             [
              0.5555555555555556,
              "#d8576b"
             ],
             [
              0.6666666666666666,
              "#ed7953"
             ],
             [
              0.7777777777777778,
              "#fb9f3a"
             ],
             [
              0.8888888888888888,
              "#fdca26"
             ],
             [
              1,
              "#f0f921"
             ]
            ],
            "type": "histogram2dcontour"
           }
          ],
          "mesh3d": [
           {
            "colorbar": {
             "outlinewidth": 0,
             "ticks": ""
            },
            "type": "mesh3d"
           }
          ],
          "parcoords": [
           {
            "line": {
             "colorbar": {
              "outlinewidth": 0,
              "ticks": ""
             }
            },
            "type": "parcoords"
           }
          ],
          "pie": [
           {
            "automargin": true,
            "type": "pie"
           }
          ],
          "scatter": [
           {
            "marker": {
             "colorbar": {
              "outlinewidth": 0,
              "ticks": ""
             }
            },
            "type": "scatter"
           }
          ],
          "scatter3d": [
           {
            "line": {
             "colorbar": {
              "outlinewidth": 0,
              "ticks": ""
             }
            },
            "marker": {
             "colorbar": {
              "outlinewidth": 0,
              "ticks": ""
             }
            },
            "type": "scatter3d"
           }
          ],
          "scattercarpet": [
           {
            "marker": {
             "colorbar": {
              "outlinewidth": 0,
              "ticks": ""
             }
            },
            "type": "scattercarpet"
           }
          ],
          "scattergeo": [
           {
            "marker": {
             "colorbar": {
              "outlinewidth": 0,
              "ticks": ""
             }
            },
            "type": "scattergeo"
           }
          ],
          "scattergl": [
           {
            "marker": {
             "colorbar": {
              "outlinewidth": 0,
              "ticks": ""
             }
            },
            "type": "scattergl"
           }
          ],
          "scattermapbox": [
           {
            "marker": {
             "colorbar": {
              "outlinewidth": 0,
              "ticks": ""
             }
            },
            "type": "scattermapbox"
           }
          ],
          "scatterpolar": [
           {
            "marker": {
             "colorbar": {
              "outlinewidth": 0,
              "ticks": ""
             }
            },
            "type": "scatterpolar"
           }
          ],
          "scatterpolargl": [
           {
            "marker": {
             "colorbar": {
              "outlinewidth": 0,
              "ticks": ""
             }
            },
            "type": "scatterpolargl"
           }
          ],
          "scatterternary": [
           {
            "marker": {
             "colorbar": {
              "outlinewidth": 0,
              "ticks": ""
             }
            },
            "type": "scatterternary"
           }
          ],
          "surface": [
           {
            "colorbar": {
             "outlinewidth": 0,
             "ticks": ""
            },
            "colorscale": [
             [
              0,
              "#0d0887"
             ],
             [
              0.1111111111111111,
              "#46039f"
             ],
             [
              0.2222222222222222,
              "#7201a8"
             ],
             [
              0.3333333333333333,
              "#9c179e"
             ],
             [
              0.4444444444444444,
              "#bd3786"
             ],
             [
              0.5555555555555556,
              "#d8576b"
             ],
             [
              0.6666666666666666,
              "#ed7953"
             ],
             [
              0.7777777777777778,
              "#fb9f3a"
             ],
             [
              0.8888888888888888,
              "#fdca26"
             ],
             [
              1,
              "#f0f921"
             ]
            ],
            "type": "surface"
           }
          ],
          "table": [
           {
            "cells": {
             "fill": {
              "color": "#EBF0F8"
             },
             "line": {
              "color": "white"
             }
            },
            "header": {
             "fill": {
              "color": "#C8D4E3"
             },
             "line": {
              "color": "white"
             }
            },
            "type": "table"
           }
          ]
         },
         "layout": {
          "annotationdefaults": {
           "arrowcolor": "#2a3f5f",
           "arrowhead": 0,
           "arrowwidth": 1
          },
          "coloraxis": {
           "colorbar": {
            "outlinewidth": 0,
            "ticks": ""
           }
          },
          "colorscale": {
           "diverging": [
            [
             0,
             "#8e0152"
            ],
            [
             0.1,
             "#c51b7d"
            ],
            [
             0.2,
             "#de77ae"
            ],
            [
             0.3,
             "#f1b6da"
            ],
            [
             0.4,
             "#fde0ef"
            ],
            [
             0.5,
             "#f7f7f7"
            ],
            [
             0.6,
             "#e6f5d0"
            ],
            [
             0.7,
             "#b8e186"
            ],
            [
             0.8,
             "#7fbc41"
            ],
            [
             0.9,
             "#4d9221"
            ],
            [
             1,
             "#276419"
            ]
           ],
           "sequential": [
            [
             0,
             "#0d0887"
            ],
            [
             0.1111111111111111,
             "#46039f"
            ],
            [
             0.2222222222222222,
             "#7201a8"
            ],
            [
             0.3333333333333333,
             "#9c179e"
            ],
            [
             0.4444444444444444,
             "#bd3786"
            ],
            [
             0.5555555555555556,
             "#d8576b"
            ],
            [
             0.6666666666666666,
             "#ed7953"
            ],
            [
             0.7777777777777778,
             "#fb9f3a"
            ],
            [
             0.8888888888888888,
             "#fdca26"
            ],
            [
             1,
             "#f0f921"
            ]
           ],
           "sequentialminus": [
            [
             0,
             "#0d0887"
            ],
            [
             0.1111111111111111,
             "#46039f"
            ],
            [
             0.2222222222222222,
             "#7201a8"
            ],
            [
             0.3333333333333333,
             "#9c179e"
            ],
            [
             0.4444444444444444,
             "#bd3786"
            ],
            [
             0.5555555555555556,
             "#d8576b"
            ],
            [
             0.6666666666666666,
             "#ed7953"
            ],
            [
             0.7777777777777778,
             "#fb9f3a"
            ],
            [
             0.8888888888888888,
             "#fdca26"
            ],
            [
             1,
             "#f0f921"
            ]
           ]
          },
          "colorway": [
           "#636efa",
           "#EF553B",
           "#00cc96",
           "#ab63fa",
           "#FFA15A",
           "#19d3f3",
           "#FF6692",
           "#B6E880",
           "#FF97FF",
           "#FECB52"
          ],
          "font": {
           "color": "#2a3f5f"
          },
          "geo": {
           "bgcolor": "white",
           "lakecolor": "white",
           "landcolor": "#E5ECF6",
           "showlakes": true,
           "showland": true,
           "subunitcolor": "white"
          },
          "hoverlabel": {
           "align": "left"
          },
          "hovermode": "closest",
          "mapbox": {
           "style": "light"
          },
          "paper_bgcolor": "white",
          "plot_bgcolor": "#E5ECF6",
          "polar": {
           "angularaxis": {
            "gridcolor": "white",
            "linecolor": "white",
            "ticks": ""
           },
           "bgcolor": "#E5ECF6",
           "radialaxis": {
            "gridcolor": "white",
            "linecolor": "white",
            "ticks": ""
           }
          },
          "scene": {
           "xaxis": {
            "backgroundcolor": "#E5ECF6",
            "gridcolor": "white",
            "gridwidth": 2,
            "linecolor": "white",
            "showbackground": true,
            "ticks": "",
            "zerolinecolor": "white"
           },
           "yaxis": {
            "backgroundcolor": "#E5ECF6",
            "gridcolor": "white",
            "gridwidth": 2,
            "linecolor": "white",
            "showbackground": true,
            "ticks": "",
            "zerolinecolor": "white"
           },
           "zaxis": {
            "backgroundcolor": "#E5ECF6",
            "gridcolor": "white",
            "gridwidth": 2,
            "linecolor": "white",
            "showbackground": true,
            "ticks": "",
            "zerolinecolor": "white"
           }
          },
          "shapedefaults": {
           "line": {
            "color": "#2a3f5f"
           }
          },
          "ternary": {
           "aaxis": {
            "gridcolor": "white",
            "linecolor": "white",
            "ticks": ""
           },
           "baxis": {
            "gridcolor": "white",
            "linecolor": "white",
            "ticks": ""
           },
           "bgcolor": "#E5ECF6",
           "caxis": {
            "gridcolor": "white",
            "linecolor": "white",
            "ticks": ""
           }
          },
          "title": {
           "x": 0.05
          },
          "xaxis": {
           "automargin": true,
           "gridcolor": "white",
           "linecolor": "white",
           "ticks": "",
           "title": {
            "standoff": 15
           },
           "zerolinecolor": "white",
           "zerolinewidth": 2
          },
          "yaxis": {
           "automargin": true,
           "gridcolor": "white",
           "linecolor": "white",
           "ticks": "",
           "title": {
            "standoff": 15
           },
           "zerolinecolor": "white",
           "zerolinewidth": 2
          }
         }
        },
        "title": {
         "text": "behaviour of mu*h(x) of Pure penalization using different starting points for mu",
         "x": 0.5
        },
        "xaxis": {
         "anchor": "y",
         "domain": [
          0,
          1
         ],
         "title": {
          "text": "iterations"
         }
        },
        "yaxis": {
         "anchor": "x",
         "domain": [
          0,
          1
         ],
         "title": {
          "text": "log10||x_k-x_min||"
         }
        }
       }
      },
      "text/html": [
       "<div>\n",
       "        \n",
       "        \n",
       "            <div id=\"08a86dc0-89b7-4887-95a2-37f5de1ba88c\" class=\"plotly-graph-div\" style=\"height:525px; width:100%;\"></div>\n",
       "            <script type=\"text/javascript\">\n",
       "                require([\"plotly\"], function(Plotly) {\n",
       "                    window.PLOTLYENV=window.PLOTLYENV || {};\n",
       "                    \n",
       "                if (document.getElementById(\"08a86dc0-89b7-4887-95a2-37f5de1ba88c\")) {\n",
       "                    Plotly.newPlot(\n",
       "                        '08a86dc0-89b7-4887-95a2-37f5de1ba88c',\n",
       "                        [{\"hovertemplate\": \"mu_start=0.5<br>iteration=%{x}<br>mu*h(x)=%{y}<extra></extra>\", \"legendgroup\": \"0.5\", \"line\": {\"color\": \"#636efa\", \"dash\": \"solid\"}, \"mode\": \"lines\", \"name\": \"0.5\", \"orientation\": \"v\", \"showlegend\": true, \"type\": \"scatter\", \"x\": [1, 3, 5, 10, 12, 15, 17, 20, 50, 100, 150, 200], \"xaxis\": \"x\", \"y\": [-2.499999999999998, -6.5, -10.5, -20.5, -24.5, -30.5, -34.5, -40.5, -100.5, -200.5, -300.5, -400.5], \"yaxis\": \"y\"}, {\"hovertemplate\": \"mu_start=2.0<br>iteration=%{x}<br>mu*h(x)=%{y}<extra></extra>\", \"legendgroup\": \"2.0\", \"line\": {\"color\": \"#EF553B\", \"dash\": \"solid\"}, \"mode\": \"lines\", \"name\": \"2.0\", \"orientation\": \"v\", \"showlegend\": true, \"type\": \"scatter\", \"x\": [1, 3, 5, 10, 12, 15, 17, 20, 50, 100, 150, 200], \"xaxis\": \"x\", \"y\": [-3.999999999951118, -8.0, -12.0, -22.0, -26.0, -32.0, -36.0, -42.0, -102.0, -202.0, -302.0, -402.0], \"yaxis\": \"y\"}, {\"hovertemplate\": \"mu_start=3.0<br>iteration=%{x}<br>mu*h(x)=%{y}<extra></extra>\", \"legendgroup\": \"3.0\", \"line\": {\"color\": \"#00cc96\", \"dash\": \"solid\"}, \"mode\": \"lines\", \"name\": \"3.0\", \"orientation\": \"v\", \"showlegend\": true, \"type\": \"scatter\", \"x\": [1, 3, 5, 10, 12, 15, 17, 20, 50, 100, 150, 200], \"xaxis\": \"x\", \"y\": [-4.999999999945642, -9.0, -13.0, -23.0, -27.0, -33.0, -37.0, -43.0, -103.0, -203.0, -303.0, -403.0], \"yaxis\": \"y\"}, {\"hovertemplate\": \"mu_start=5.0<br>iteration=%{x}<br>mu*h(x)=%{y}<extra></extra>\", \"legendgroup\": \"5.0\", \"line\": {\"color\": \"#ab63fa\", \"dash\": \"solid\"}, \"mode\": \"lines\", \"name\": \"5.0\", \"orientation\": \"v\", \"showlegend\": true, \"type\": \"scatter\", \"x\": [1, 3, 5, 10, 12, 15, 17, 20, 50, 100, 150, 200], \"xaxis\": \"x\", \"y\": [-5.599993150226618, -4.888888863454819, -4.615384482299353, -4.3478263791950775, -4.296414604976661, -4.242427875107957, -4.216214196137247, -4.186045324989232, -4.077661217963033, -4.039409090711511, -4.026443070922627, -4.019855783890033], \"yaxis\": \"y\"}, {\"hovertemplate\": \"mu_start=10.0<br>iteration=%{x}<br>mu*h(x)=%{y}<extra></extra>\", \"legendgroup\": \"10.0\", \"line\": {\"color\": \"#FFA15A\", \"dash\": \"solid\"}, \"mode\": \"lines\", \"name\": \"10.0\", \"orientation\": \"v\", \"showlegend\": true, \"type\": \"scatter\", \"x\": [1, 3, 5, 10, 12, 15, 17, 20, 50, 100, 150, 200], \"xaxis\": \"x\", \"y\": [-4.800000352478864, -4.571427384548128, -4.444444961034404, -4.285718921840277, -4.249996426938629, -4.210528489821526, -4.19047512584735, -4.166629793565047, -4.074083902240504, -4.03838591510517, -4.025963086330492, -4.019637682813622], \"yaxis\": \"y\"}, {\"hovertemplate\": \"mu_start=20.0<br>iteration=%{x}<br>mu*h(x)=%{y}<extra></extra>\", \"legendgroup\": \"20.0\", \"line\": {\"color\": \"#19d3f3\", \"dash\": \"solid\"}, \"mode\": \"lines\", \"name\": \"20.0\", \"orientation\": \"v\", \"showlegend\": true, \"type\": \"scatter\", \"x\": [1, 3, 5, 10, 12, 15, 17, 20, 50, 100, 150, 200], \"xaxis\": \"x\", \"y\": [-4.400000785864631, -4.333331360384267, -4.28571892184026, -4.210528489819905, -4.190475125843613, -4.1666297935763925, -4.153840412594363, -4.137933905682218, -4.067765556005214, -4.036704380265457, -4.025139552671462, -4.0191183441692075], \"yaxis\": \"y\"}, {\"hovertemplate\": \"mu_start=50.0<br>iteration=%{x}<br>mu*h(x)=%{y}<extra></extra>\", \"legendgroup\": \"50.0\", \"line\": {\"color\": \"#FF6692\", \"dash\": \"solid\"}, \"mode\": \"lines\", \"name\": \"50.0\", \"orientation\": \"v\", \"showlegend\": true, \"type\": \"scatter\", \"x\": [1, 3, 5, 10, 12, 15, 17, 20, 50, 100, 150, 200], \"xaxis\": \"x\", \"y\": [-4.1617881453663825, -4.148144979073933, -4.1379339058396125, -4.117633131221669, -4.111104189421837, -4.102576193547067, -4.097556065120656, -4.090962229725934, -4.054045945571094, -4.032237643728232, -4.023048392820944, -4.01787529588446], \"yaxis\": \"y\"}, {\"hovertemplate\": \"mu_start=100.0<br>iteration=%{x}<br>mu*h(x)=%{y}<extra></extra>\", \"legendgroup\": \"100.0\", \"line\": {\"color\": \"#B6E880\", \"dash\": \"solid\"}, \"mode\": \"lines\", \"name\": \"100.0\", \"orientation\": \"v\", \"showlegend\": true, \"type\": \"scatter\", \"x\": [1, 3, 5, 10, 12, 15, 17, 20, 50, 100, 150, 200], \"xaxis\": \"x\", \"y\": [-4.610049471478896, -4.076902642192509, -4.07408383295508, -4.067806929196727, -4.065587092813299, -4.06239787765235, -4.060592832796316, -4.057780601590619, -4.040389681958789, -4.026851894986983, -4.020080674324467, -4.016124352586525], \"yaxis\": \"y\"}, {\"hovertemplate\": \"mu_start=200.0<br>iteration=%{x}<br>mu*h(x)=%{y}<extra></extra>\", \"legendgroup\": \"200.0\", \"line\": {\"color\": \"#FF97FF\", \"dash\": \"solid\"}, \"mode\": \"lines\", \"name\": \"200.0\", \"orientation\": \"v\", \"showlegend\": true, \"type\": \"scatter\", \"x\": [1, 3, 5, 10, 12, 15, 17, 20, 50, 100, 150, 200], \"xaxis\": \"x\", \"y\": [-4.050161652532078, -4.04133438488144, -4.038450982712449, -4.036551352235911, -4.036017590957549, -4.035109306546085, -4.034527875773963, -4.033540650869796, -4.026838994588333, -4.020112195053871, -4.016018460006599, -4.013273949254326], \"yaxis\": \"y\"}, {\"hovertemplate\": \"mu_start=500.0<br>iteration=%{x}<br>mu*h(x)=%{y}<extra></extra>\", \"legendgroup\": \"500.0\", \"line\": {\"color\": \"#FECB52\", \"dash\": \"solid\"}, \"mode\": \"lines\", \"name\": \"500.0\", \"orientation\": \"v\", \"showlegend\": true, \"type\": \"scatter\", \"x\": [1, 3, 5, 10, 12, 15, 17, 20, 50, 100, 150, 200], \"xaxis\": \"x\", \"y\": [-4.031152360822286, -4.01667392899703, -4.015542848068278, -4.015358504621753, -4.015253302906663, -4.01519914596295, -4.0150739912746305, -4.014902904700044, -4.0132741085790125, -4.011498952423375, -4.010034252166594, -4.008938763996916], \"yaxis\": \"y\"}, {\"hovertemplate\": \"mu_start=1000.0<br>iteration=%{x}<br>mu*h(x)=%{y}<extra></extra>\", \"legendgroup\": \"1000.0\", \"line\": {\"color\": \"#636efa\", \"dash\": \"solid\"}, \"mode\": \"lines\", \"name\": \"1000.0\", \"orientation\": \"v\", \"showlegend\": true, \"type\": \"scatter\", \"x\": [1, 3, 5, 10, 12, 15, 17, 20, 50, 100, 150, 200], \"xaxis\": \"x\", \"y\": [-4.0156652516689215, -4.006734146806371, -4.007305524584748, -4.007718030982423, -4.007710951971035, -4.007891291825112, -4.007633767147773, -4.007590133379306, -4.0071617907248225, -4.006716521431519, -4.006202589762353, -4.005761265240282], \"yaxis\": \"y\"}, {\"hovertemplate\": \"mu_start=5000.0<br>iteration=%{x}<br>mu*h(x)=%{y}<extra></extra>\", \"legendgroup\": \"5000.0\", \"line\": {\"color\": \"#EF553B\", \"dash\": \"solid\"}, \"mode\": \"lines\", \"name\": \"5000.0\", \"orientation\": \"v\", \"showlegend\": true, \"type\": \"scatter\", \"x\": [1, 3, 5, 10, 12, 15, 17, 20, 50, 100, 150, 200], \"xaxis\": \"x\", \"y\": [-4.571627437754405, -4.036408143157878, -4.017275846464288, -3.994061960209343, -3.9952676043833897, -3.9994914367515024, -4.003166910705585, -4.003132436574832, -4.000928274469684, -4.001140775600653, -4.00179403846116, -4.001763778307632], \"yaxis\": \"y\"}, {\"hovertemplate\": \"mu_start=100000.0<br>iteration=%{x}<br>mu*h(x)=%{y}<extra></extra>\", \"legendgroup\": \"100000.0\", \"line\": {\"color\": \"#00cc96\", \"dash\": \"solid\"}, \"mode\": \"lines\", \"name\": \"100000.0\", \"orientation\": \"v\", \"showlegend\": true, \"type\": \"scatter\", \"x\": [1, 3, 5, 10, 12, 15, 17, 20, 50, 100, 150, 200], \"xaxis\": \"x\", \"y\": [-10.795989848193345, -3.5330066807953058, -8.526203347597294, -4.92674901872153, -4.652024341221098, -4.431730385644751, -4.348598698325205, -4.272314692498691, -4.051255562717371, -3.980776074005554, -4.0120198117054695, -3.991618602292313], \"yaxis\": \"y\"}],\n",
       "                        {\"legend\": {\"title\": {\"text\": \"mu_start\"}, \"tracegroupgap\": 0}, \"margin\": {\"t\": 60}, \"template\": {\"data\": {\"bar\": [{\"error_x\": {\"color\": \"#2a3f5f\"}, \"error_y\": {\"color\": \"#2a3f5f\"}, \"marker\": {\"line\": {\"color\": \"#E5ECF6\", \"width\": 0.5}}, \"type\": \"bar\"}], \"barpolar\": [{\"marker\": {\"line\": {\"color\": \"#E5ECF6\", \"width\": 0.5}}, \"type\": \"barpolar\"}], \"carpet\": [{\"aaxis\": {\"endlinecolor\": \"#2a3f5f\", \"gridcolor\": \"white\", \"linecolor\": \"white\", \"minorgridcolor\": \"white\", \"startlinecolor\": \"#2a3f5f\"}, \"baxis\": {\"endlinecolor\": \"#2a3f5f\", \"gridcolor\": \"white\", \"linecolor\": \"white\", \"minorgridcolor\": \"white\", \"startlinecolor\": \"#2a3f5f\"}, \"type\": \"carpet\"}], \"choropleth\": [{\"colorbar\": {\"outlinewidth\": 0, \"ticks\": \"\"}, \"type\": \"choropleth\"}], \"contour\": [{\"colorbar\": {\"outlinewidth\": 0, \"ticks\": \"\"}, \"colorscale\": [[0.0, \"#0d0887\"], [0.1111111111111111, \"#46039f\"], [0.2222222222222222, \"#7201a8\"], [0.3333333333333333, \"#9c179e\"], [0.4444444444444444, \"#bd3786\"], [0.5555555555555556, \"#d8576b\"], [0.6666666666666666, \"#ed7953\"], [0.7777777777777778, \"#fb9f3a\"], [0.8888888888888888, \"#fdca26\"], [1.0, \"#f0f921\"]], \"type\": \"contour\"}], \"contourcarpet\": [{\"colorbar\": {\"outlinewidth\": 0, \"ticks\": \"\"}, \"type\": \"contourcarpet\"}], \"heatmap\": [{\"colorbar\": {\"outlinewidth\": 0, \"ticks\": \"\"}, \"colorscale\": [[0.0, \"#0d0887\"], [0.1111111111111111, \"#46039f\"], [0.2222222222222222, \"#7201a8\"], [0.3333333333333333, \"#9c179e\"], [0.4444444444444444, \"#bd3786\"], [0.5555555555555556, \"#d8576b\"], [0.6666666666666666, \"#ed7953\"], [0.7777777777777778, \"#fb9f3a\"], [0.8888888888888888, \"#fdca26\"], [1.0, \"#f0f921\"]], \"type\": \"heatmap\"}], \"heatmapgl\": [{\"colorbar\": {\"outlinewidth\": 0, \"ticks\": \"\"}, \"colorscale\": [[0.0, \"#0d0887\"], [0.1111111111111111, \"#46039f\"], [0.2222222222222222, \"#7201a8\"], [0.3333333333333333, \"#9c179e\"], [0.4444444444444444, \"#bd3786\"], [0.5555555555555556, \"#d8576b\"], [0.6666666666666666, \"#ed7953\"], [0.7777777777777778, \"#fb9f3a\"], [0.8888888888888888, \"#fdca26\"], [1.0, \"#f0f921\"]], \"type\": \"heatmapgl\"}], \"histogram\": [{\"marker\": {\"colorbar\": {\"outlinewidth\": 0, \"ticks\": \"\"}}, \"type\": \"histogram\"}], \"histogram2d\": [{\"colorbar\": {\"outlinewidth\": 0, \"ticks\": \"\"}, \"colorscale\": [[0.0, \"#0d0887\"], [0.1111111111111111, \"#46039f\"], [0.2222222222222222, \"#7201a8\"], [0.3333333333333333, \"#9c179e\"], [0.4444444444444444, \"#bd3786\"], [0.5555555555555556, \"#d8576b\"], [0.6666666666666666, \"#ed7953\"], [0.7777777777777778, \"#fb9f3a\"], [0.8888888888888888, \"#fdca26\"], [1.0, \"#f0f921\"]], \"type\": \"histogram2d\"}], \"histogram2dcontour\": [{\"colorbar\": {\"outlinewidth\": 0, \"ticks\": \"\"}, \"colorscale\": [[0.0, \"#0d0887\"], [0.1111111111111111, \"#46039f\"], [0.2222222222222222, \"#7201a8\"], [0.3333333333333333, \"#9c179e\"], [0.4444444444444444, \"#bd3786\"], [0.5555555555555556, \"#d8576b\"], [0.6666666666666666, \"#ed7953\"], [0.7777777777777778, \"#fb9f3a\"], [0.8888888888888888, \"#fdca26\"], [1.0, \"#f0f921\"]], \"type\": \"histogram2dcontour\"}], \"mesh3d\": [{\"colorbar\": {\"outlinewidth\": 0, \"ticks\": \"\"}, \"type\": \"mesh3d\"}], \"parcoords\": [{\"line\": {\"colorbar\": {\"outlinewidth\": 0, \"ticks\": \"\"}}, \"type\": \"parcoords\"}], \"pie\": [{\"automargin\": true, \"type\": \"pie\"}], \"scatter\": [{\"marker\": {\"colorbar\": {\"outlinewidth\": 0, \"ticks\": \"\"}}, \"type\": \"scatter\"}], \"scatter3d\": [{\"line\": {\"colorbar\": {\"outlinewidth\": 0, \"ticks\": \"\"}}, \"marker\": {\"colorbar\": {\"outlinewidth\": 0, \"ticks\": \"\"}}, \"type\": \"scatter3d\"}], \"scattercarpet\": [{\"marker\": {\"colorbar\": {\"outlinewidth\": 0, \"ticks\": \"\"}}, \"type\": \"scattercarpet\"}], \"scattergeo\": [{\"marker\": {\"colorbar\": {\"outlinewidth\": 0, \"ticks\": \"\"}}, \"type\": \"scattergeo\"}], \"scattergl\": [{\"marker\": {\"colorbar\": {\"outlinewidth\": 0, \"ticks\": \"\"}}, \"type\": \"scattergl\"}], \"scattermapbox\": [{\"marker\": {\"colorbar\": {\"outlinewidth\": 0, \"ticks\": \"\"}}, \"type\": \"scattermapbox\"}], \"scatterpolar\": [{\"marker\": {\"colorbar\": {\"outlinewidth\": 0, \"ticks\": \"\"}}, \"type\": \"scatterpolar\"}], \"scatterpolargl\": [{\"marker\": {\"colorbar\": {\"outlinewidth\": 0, \"ticks\": \"\"}}, \"type\": \"scatterpolargl\"}], \"scatterternary\": [{\"marker\": {\"colorbar\": {\"outlinewidth\": 0, \"ticks\": \"\"}}, \"type\": \"scatterternary\"}], \"surface\": [{\"colorbar\": {\"outlinewidth\": 0, \"ticks\": \"\"}, \"colorscale\": [[0.0, \"#0d0887\"], [0.1111111111111111, \"#46039f\"], [0.2222222222222222, \"#7201a8\"], [0.3333333333333333, \"#9c179e\"], [0.4444444444444444, \"#bd3786\"], [0.5555555555555556, \"#d8576b\"], [0.6666666666666666, \"#ed7953\"], [0.7777777777777778, \"#fb9f3a\"], [0.8888888888888888, \"#fdca26\"], [1.0, \"#f0f921\"]], \"type\": \"surface\"}], \"table\": [{\"cells\": {\"fill\": {\"color\": \"#EBF0F8\"}, \"line\": {\"color\": \"white\"}}, \"header\": {\"fill\": {\"color\": \"#C8D4E3\"}, \"line\": {\"color\": \"white\"}}, \"type\": \"table\"}]}, \"layout\": {\"annotationdefaults\": {\"arrowcolor\": \"#2a3f5f\", \"arrowhead\": 0, \"arrowwidth\": 1}, \"coloraxis\": {\"colorbar\": {\"outlinewidth\": 0, \"ticks\": \"\"}}, \"colorscale\": {\"diverging\": [[0, \"#8e0152\"], [0.1, \"#c51b7d\"], [0.2, \"#de77ae\"], [0.3, \"#f1b6da\"], [0.4, \"#fde0ef\"], [0.5, \"#f7f7f7\"], [0.6, \"#e6f5d0\"], [0.7, \"#b8e186\"], [0.8, \"#7fbc41\"], [0.9, \"#4d9221\"], [1, \"#276419\"]], \"sequential\": [[0.0, \"#0d0887\"], [0.1111111111111111, \"#46039f\"], [0.2222222222222222, \"#7201a8\"], [0.3333333333333333, \"#9c179e\"], [0.4444444444444444, \"#bd3786\"], [0.5555555555555556, \"#d8576b\"], [0.6666666666666666, \"#ed7953\"], [0.7777777777777778, \"#fb9f3a\"], [0.8888888888888888, \"#fdca26\"], [1.0, \"#f0f921\"]], \"sequentialminus\": [[0.0, \"#0d0887\"], [0.1111111111111111, \"#46039f\"], [0.2222222222222222, \"#7201a8\"], [0.3333333333333333, \"#9c179e\"], [0.4444444444444444, \"#bd3786\"], [0.5555555555555556, \"#d8576b\"], [0.6666666666666666, \"#ed7953\"], [0.7777777777777778, \"#fb9f3a\"], [0.8888888888888888, \"#fdca26\"], [1.0, \"#f0f921\"]]}, \"colorway\": [\"#636efa\", \"#EF553B\", \"#00cc96\", \"#ab63fa\", \"#FFA15A\", \"#19d3f3\", \"#FF6692\", \"#B6E880\", \"#FF97FF\", \"#FECB52\"], \"font\": {\"color\": \"#2a3f5f\"}, \"geo\": {\"bgcolor\": \"white\", \"lakecolor\": \"white\", \"landcolor\": \"#E5ECF6\", \"showlakes\": true, \"showland\": true, \"subunitcolor\": \"white\"}, \"hoverlabel\": {\"align\": \"left\"}, \"hovermode\": \"closest\", \"mapbox\": {\"style\": \"light\"}, \"paper_bgcolor\": \"white\", \"plot_bgcolor\": \"#E5ECF6\", \"polar\": {\"angularaxis\": {\"gridcolor\": \"white\", \"linecolor\": \"white\", \"ticks\": \"\"}, \"bgcolor\": \"#E5ECF6\", \"radialaxis\": {\"gridcolor\": \"white\", \"linecolor\": \"white\", \"ticks\": \"\"}}, \"scene\": {\"xaxis\": {\"backgroundcolor\": \"#E5ECF6\", \"gridcolor\": \"white\", \"gridwidth\": 2, \"linecolor\": \"white\", \"showbackground\": true, \"ticks\": \"\", \"zerolinecolor\": \"white\"}, \"yaxis\": {\"backgroundcolor\": \"#E5ECF6\", \"gridcolor\": \"white\", \"gridwidth\": 2, \"linecolor\": \"white\", \"showbackground\": true, \"ticks\": \"\", \"zerolinecolor\": \"white\"}, \"zaxis\": {\"backgroundcolor\": \"#E5ECF6\", \"gridcolor\": \"white\", \"gridwidth\": 2, \"linecolor\": \"white\", \"showbackground\": true, \"ticks\": \"\", \"zerolinecolor\": \"white\"}}, \"shapedefaults\": {\"line\": {\"color\": \"#2a3f5f\"}}, \"ternary\": {\"aaxis\": {\"gridcolor\": \"white\", \"linecolor\": \"white\", \"ticks\": \"\"}, \"baxis\": {\"gridcolor\": \"white\", \"linecolor\": \"white\", \"ticks\": \"\"}, \"bgcolor\": \"#E5ECF6\", \"caxis\": {\"gridcolor\": \"white\", \"linecolor\": \"white\", \"ticks\": \"\"}}, \"title\": {\"x\": 0.05}, \"xaxis\": {\"automargin\": true, \"gridcolor\": \"white\", \"linecolor\": \"white\", \"ticks\": \"\", \"title\": {\"standoff\": 15}, \"zerolinecolor\": \"white\", \"zerolinewidth\": 2}, \"yaxis\": {\"automargin\": true, \"gridcolor\": \"white\", \"linecolor\": \"white\", \"ticks\": \"\", \"title\": {\"standoff\": 15}, \"zerolinecolor\": \"white\", \"zerolinewidth\": 2}}}, \"title\": {\"text\": \"behaviour of mu*h(x) of Pure penalization using different starting points for mu\", \"x\": 0.5}, \"xaxis\": {\"anchor\": \"y\", \"domain\": [0.0, 1.0], \"title\": {\"text\": \"iterations\"}}, \"yaxis\": {\"anchor\": \"x\", \"domain\": [0.0, 1.0], \"title\": {\"text\": \"log10||x_k-x_min||\"}}},\n",
       "                        {\"responsive\": true}\n",
       "                    ).then(function(){\n",
       "                            \n",
       "var gd = document.getElementById('08a86dc0-89b7-4887-95a2-37f5de1ba88c');\n",
       "var x = new MutationObserver(function (mutations, observer) {{\n",
       "        var display = window.getComputedStyle(gd).display;\n",
       "        if (!display || display === 'none') {{\n",
       "            console.log([gd, 'removed!']);\n",
       "            Plotly.purge(gd);\n",
       "            observer.disconnect();\n",
       "        }}\n",
       "}});\n",
       "\n",
       "// Listen for the removal of the full notebook cells\n",
       "var notebookContainer = gd.closest('#notebook-container');\n",
       "if (notebookContainer) {{\n",
       "    x.observe(notebookContainer, {childList: true});\n",
       "}}\n",
       "\n",
       "// Listen for the clearing of the current output cell\n",
       "var outputEl = gd.closest('.output');\n",
       "if (outputEl) {{\n",
       "    x.observe(outputEl, {childList: true});\n",
       "}}\n",
       "\n",
       "                        })\n",
       "                };\n",
       "                });\n",
       "            </script>\n",
       "        </div>"
      ]
     },
     "metadata": {},
     "output_type": "display_data"
    }
   ],
   "source": [
    "layout = dict(title_text='behaviour of mu*h(x) of Pure penalization using different starting points for mu', title_x=0.5, xaxis_title='iterations', yaxis_title='log10||x_k-x_min||')\n",
    "fig = px.line(data, x='iteration',y='mu*h(x)', color='mu_start')\n",
    "fig.update_layout(layout)\n",
    "fig.write_image('media/experiment_1_initial_mu_changing_pure_method_exercise1_muh_behaviour.png')\n",
    "fig.show()"
   ]
  },
  {
   "cell_type": "code",
   "execution_count": null,
   "metadata": {},
   "outputs": [],
   "source": []
  }
 ],
 "metadata": {
  "kernelspec": {
   "display_name": "Python 3",
   "language": "python",
   "name": "python3"
  },
  "language_info": {
   "codemirror_mode": {
    "name": "ipython",
    "version": 3
   },
   "file_extension": ".py",
   "mimetype": "text/x-python",
   "name": "python",
   "nbconvert_exporter": "python",
   "pygments_lexer": "ipython3",
   "version": "3.8.1"
  },
  "toc": {
   "base_numbering": 1,
   "nav_menu": {},
   "number_sections": true,
   "sideBar": true,
   "skip_h1_title": false,
   "title_cell": "Table of Contents",
   "title_sidebar": "Contents",
   "toc_cell": false,
   "toc_position": {},
   "toc_section_display": true,
   "toc_window_display": false
  }
 },
 "nbformat": 4,
 "nbformat_minor": 4
}
